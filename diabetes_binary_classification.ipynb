{
 "cells": [
  {
   "cell_type": "code",
   "execution_count": 1,
   "id": "a896b826-5362-4086-8107-e88b36cb0299",
   "metadata": {},
   "outputs": [],
   "source": [
    "import pandas as pd\n",
    "import numpy as np\n",
    "import seaborn as sns\n",
    "import matplotlib.pyplot as plt\n",
    "from scipy import stats\n",
    "from datetime import date\n",
    "import tensorflow as tf\n",
    "import sklearn\n",
    "from sklearn.model_selection import train_test_split"
   ]
  },
  {
   "cell_type": "markdown",
   "id": "c1c566f1-07a2-40a3-a26b-d09823a91fe4",
   "metadata": {},
   "source": [
    "## Data Exploration and Pre-processing\n",
    "\n",
    "253,680 responses from cleaned BRFSS (telephone survey in the US) data 2015\n",
    "\n",
    "Source: https://www.kaggle.com/datasets/alexteboul/diabetes-health-indicators-dataset/versions/1?resource=download\n",
    "\n",
    "In the below, diabetes (label 2) and pre-diabetes (label 1) are grouped together as they both may require medication."
   ]
  },
  {
   "cell_type": "code",
   "execution_count": 2,
   "id": "7f9f5eec-91ca-4685-86ba-00caa97a74d7",
   "metadata": {},
   "outputs": [],
   "source": [
    "df = pd.read_csv(\"diabetes_binary_health_indicators_BRFSS2015.csv\")"
   ]
  },
  {
   "cell_type": "code",
   "execution_count": 3,
   "id": "e4cc830f-ebab-4c81-b109-64e437f66f7e",
   "metadata": {},
   "outputs": [
    {
     "data": {
      "text/html": [
       "<div>\n",
       "<style scoped>\n",
       "    .dataframe tbody tr th:only-of-type {\n",
       "        vertical-align: middle;\n",
       "    }\n",
       "\n",
       "    .dataframe tbody tr th {\n",
       "        vertical-align: top;\n",
       "    }\n",
       "\n",
       "    .dataframe thead th {\n",
       "        text-align: right;\n",
       "    }\n",
       "</style>\n",
       "<table border=\"1\" class=\"dataframe\">\n",
       "  <thead>\n",
       "    <tr style=\"text-align: right;\">\n",
       "      <th></th>\n",
       "      <th>Diabetes_binary</th>\n",
       "      <th>HighBP</th>\n",
       "      <th>HighChol</th>\n",
       "      <th>CholCheck</th>\n",
       "      <th>BMI</th>\n",
       "      <th>Smoker</th>\n",
       "      <th>Stroke</th>\n",
       "      <th>HeartDiseaseorAttack</th>\n",
       "      <th>PhysActivity</th>\n",
       "      <th>Fruits</th>\n",
       "      <th>...</th>\n",
       "      <th>AnyHealthcare</th>\n",
       "      <th>NoDocbcCost</th>\n",
       "      <th>GenHlth</th>\n",
       "      <th>MentHlth</th>\n",
       "      <th>PhysHlth</th>\n",
       "      <th>DiffWalk</th>\n",
       "      <th>Sex</th>\n",
       "      <th>Age</th>\n",
       "      <th>Education</th>\n",
       "      <th>Income</th>\n",
       "    </tr>\n",
       "  </thead>\n",
       "  <tbody>\n",
       "    <tr>\n",
       "      <th>97519</th>\n",
       "      <td>0.0</td>\n",
       "      <td>1.0</td>\n",
       "      <td>1.0</td>\n",
       "      <td>1.0</td>\n",
       "      <td>36.0</td>\n",
       "      <td>1.0</td>\n",
       "      <td>0.0</td>\n",
       "      <td>0.0</td>\n",
       "      <td>1.0</td>\n",
       "      <td>0.0</td>\n",
       "      <td>...</td>\n",
       "      <td>1.0</td>\n",
       "      <td>0.0</td>\n",
       "      <td>2.0</td>\n",
       "      <td>0.0</td>\n",
       "      <td>0.0</td>\n",
       "      <td>0.0</td>\n",
       "      <td>0.0</td>\n",
       "      <td>11.0</td>\n",
       "      <td>5.0</td>\n",
       "      <td>6.0</td>\n",
       "    </tr>\n",
       "    <tr>\n",
       "      <th>228967</th>\n",
       "      <td>0.0</td>\n",
       "      <td>1.0</td>\n",
       "      <td>0.0</td>\n",
       "      <td>1.0</td>\n",
       "      <td>34.0</td>\n",
       "      <td>0.0</td>\n",
       "      <td>0.0</td>\n",
       "      <td>0.0</td>\n",
       "      <td>1.0</td>\n",
       "      <td>1.0</td>\n",
       "      <td>...</td>\n",
       "      <td>1.0</td>\n",
       "      <td>0.0</td>\n",
       "      <td>2.0</td>\n",
       "      <td>0.0</td>\n",
       "      <td>0.0</td>\n",
       "      <td>0.0</td>\n",
       "      <td>0.0</td>\n",
       "      <td>7.0</td>\n",
       "      <td>6.0</td>\n",
       "      <td>8.0</td>\n",
       "    </tr>\n",
       "    <tr>\n",
       "      <th>153844</th>\n",
       "      <td>1.0</td>\n",
       "      <td>1.0</td>\n",
       "      <td>0.0</td>\n",
       "      <td>1.0</td>\n",
       "      <td>26.0</td>\n",
       "      <td>0.0</td>\n",
       "      <td>0.0</td>\n",
       "      <td>0.0</td>\n",
       "      <td>1.0</td>\n",
       "      <td>0.0</td>\n",
       "      <td>...</td>\n",
       "      <td>1.0</td>\n",
       "      <td>0.0</td>\n",
       "      <td>4.0</td>\n",
       "      <td>0.0</td>\n",
       "      <td>0.0</td>\n",
       "      <td>1.0</td>\n",
       "      <td>0.0</td>\n",
       "      <td>10.0</td>\n",
       "      <td>4.0</td>\n",
       "      <td>3.0</td>\n",
       "    </tr>\n",
       "    <tr>\n",
       "      <th>226440</th>\n",
       "      <td>1.0</td>\n",
       "      <td>1.0</td>\n",
       "      <td>1.0</td>\n",
       "      <td>1.0</td>\n",
       "      <td>28.0</td>\n",
       "      <td>1.0</td>\n",
       "      <td>1.0</td>\n",
       "      <td>0.0</td>\n",
       "      <td>1.0</td>\n",
       "      <td>1.0</td>\n",
       "      <td>...</td>\n",
       "      <td>1.0</td>\n",
       "      <td>0.0</td>\n",
       "      <td>3.0</td>\n",
       "      <td>0.0</td>\n",
       "      <td>2.0</td>\n",
       "      <td>0.0</td>\n",
       "      <td>1.0</td>\n",
       "      <td>9.0</td>\n",
       "      <td>6.0</td>\n",
       "      <td>5.0</td>\n",
       "    </tr>\n",
       "    <tr>\n",
       "      <th>197457</th>\n",
       "      <td>0.0</td>\n",
       "      <td>0.0</td>\n",
       "      <td>0.0</td>\n",
       "      <td>1.0</td>\n",
       "      <td>23.0</td>\n",
       "      <td>0.0</td>\n",
       "      <td>0.0</td>\n",
       "      <td>0.0</td>\n",
       "      <td>1.0</td>\n",
       "      <td>0.0</td>\n",
       "      <td>...</td>\n",
       "      <td>0.0</td>\n",
       "      <td>0.0</td>\n",
       "      <td>2.0</td>\n",
       "      <td>0.0</td>\n",
       "      <td>0.0</td>\n",
       "      <td>0.0</td>\n",
       "      <td>1.0</td>\n",
       "      <td>1.0</td>\n",
       "      <td>4.0</td>\n",
       "      <td>6.0</td>\n",
       "    </tr>\n",
       "  </tbody>\n",
       "</table>\n",
       "<p>5 rows × 22 columns</p>\n",
       "</div>"
      ],
      "text/plain": [
       "        Diabetes_binary  HighBP  HighChol  CholCheck   BMI  Smoker  Stroke  \\\n",
       "97519               0.0     1.0       1.0        1.0  36.0     1.0     0.0   \n",
       "228967              0.0     1.0       0.0        1.0  34.0     0.0     0.0   \n",
       "153844              1.0     1.0       0.0        1.0  26.0     0.0     0.0   \n",
       "226440              1.0     1.0       1.0        1.0  28.0     1.0     1.0   \n",
       "197457              0.0     0.0       0.0        1.0  23.0     0.0     0.0   \n",
       "\n",
       "        HeartDiseaseorAttack  PhysActivity  Fruits  ...  AnyHealthcare  \\\n",
       "97519                    0.0           1.0     0.0  ...            1.0   \n",
       "228967                   0.0           1.0     1.0  ...            1.0   \n",
       "153844                   0.0           1.0     0.0  ...            1.0   \n",
       "226440                   0.0           1.0     1.0  ...            1.0   \n",
       "197457                   0.0           1.0     0.0  ...            0.0   \n",
       "\n",
       "        NoDocbcCost  GenHlth  MentHlth  PhysHlth  DiffWalk  Sex   Age  \\\n",
       "97519           0.0      2.0       0.0       0.0       0.0  0.0  11.0   \n",
       "228967          0.0      2.0       0.0       0.0       0.0  0.0   7.0   \n",
       "153844          0.0      4.0       0.0       0.0       1.0  0.0  10.0   \n",
       "226440          0.0      3.0       0.0       2.0       0.0  1.0   9.0   \n",
       "197457          0.0      2.0       0.0       0.0       0.0  1.0   1.0   \n",
       "\n",
       "        Education  Income  \n",
       "97519         5.0     6.0  \n",
       "228967        6.0     8.0  \n",
       "153844        4.0     3.0  \n",
       "226440        6.0     5.0  \n",
       "197457        4.0     6.0  \n",
       "\n",
       "[5 rows x 22 columns]"
      ]
     },
     "execution_count": 3,
     "metadata": {},
     "output_type": "execute_result"
    }
   ],
   "source": [
    "df.sample(5)"
   ]
  },
  {
   "cell_type": "code",
   "execution_count": 4,
   "id": "53e11a5e-29d8-4859-8747-87b35399d786",
   "metadata": {},
   "outputs": [
    {
     "data": {
      "text/html": [
       "<div>\n",
       "<style scoped>\n",
       "    .dataframe tbody tr th:only-of-type {\n",
       "        vertical-align: middle;\n",
       "    }\n",
       "\n",
       "    .dataframe tbody tr th {\n",
       "        vertical-align: top;\n",
       "    }\n",
       "\n",
       "    .dataframe thead th {\n",
       "        text-align: right;\n",
       "    }\n",
       "</style>\n",
       "<table border=\"1\" class=\"dataframe\">\n",
       "  <thead>\n",
       "    <tr style=\"text-align: right;\">\n",
       "      <th></th>\n",
       "      <th>Diabetes_binary</th>\n",
       "      <th>HighBP</th>\n",
       "      <th>HighChol</th>\n",
       "      <th>CholCheck</th>\n",
       "      <th>BMI</th>\n",
       "      <th>Smoker</th>\n",
       "      <th>Stroke</th>\n",
       "      <th>HeartDiseaseorAttack</th>\n",
       "      <th>PhysActivity</th>\n",
       "      <th>Fruits</th>\n",
       "      <th>...</th>\n",
       "      <th>AnyHealthcare</th>\n",
       "      <th>NoDocbcCost</th>\n",
       "      <th>GenHlth</th>\n",
       "      <th>MentHlth</th>\n",
       "      <th>PhysHlth</th>\n",
       "      <th>DiffWalk</th>\n",
       "      <th>Sex</th>\n",
       "      <th>Age</th>\n",
       "      <th>Education</th>\n",
       "      <th>Income</th>\n",
       "    </tr>\n",
       "  </thead>\n",
       "  <tbody>\n",
       "    <tr>\n",
       "      <th>count</th>\n",
       "      <td>253680.000000</td>\n",
       "      <td>253680.000000</td>\n",
       "      <td>253680.000000</td>\n",
       "      <td>253680.000000</td>\n",
       "      <td>253680.000000</td>\n",
       "      <td>253680.000000</td>\n",
       "      <td>253680.000000</td>\n",
       "      <td>253680.000000</td>\n",
       "      <td>253680.000000</td>\n",
       "      <td>253680.000000</td>\n",
       "      <td>...</td>\n",
       "      <td>253680.000000</td>\n",
       "      <td>253680.000000</td>\n",
       "      <td>253680.000000</td>\n",
       "      <td>253680.000000</td>\n",
       "      <td>253680.000000</td>\n",
       "      <td>253680.000000</td>\n",
       "      <td>253680.000000</td>\n",
       "      <td>253680.000000</td>\n",
       "      <td>253680.000000</td>\n",
       "      <td>253680.000000</td>\n",
       "    </tr>\n",
       "    <tr>\n",
       "      <th>mean</th>\n",
       "      <td>0.139333</td>\n",
       "      <td>0.429001</td>\n",
       "      <td>0.424121</td>\n",
       "      <td>0.962670</td>\n",
       "      <td>28.382364</td>\n",
       "      <td>0.443169</td>\n",
       "      <td>0.040571</td>\n",
       "      <td>0.094186</td>\n",
       "      <td>0.756544</td>\n",
       "      <td>0.634256</td>\n",
       "      <td>...</td>\n",
       "      <td>0.951053</td>\n",
       "      <td>0.084177</td>\n",
       "      <td>2.511392</td>\n",
       "      <td>3.184772</td>\n",
       "      <td>4.242081</td>\n",
       "      <td>0.168224</td>\n",
       "      <td>0.440342</td>\n",
       "      <td>8.032119</td>\n",
       "      <td>5.050434</td>\n",
       "      <td>6.053875</td>\n",
       "    </tr>\n",
       "    <tr>\n",
       "      <th>std</th>\n",
       "      <td>0.346294</td>\n",
       "      <td>0.494934</td>\n",
       "      <td>0.494210</td>\n",
       "      <td>0.189571</td>\n",
       "      <td>6.608694</td>\n",
       "      <td>0.496761</td>\n",
       "      <td>0.197294</td>\n",
       "      <td>0.292087</td>\n",
       "      <td>0.429169</td>\n",
       "      <td>0.481639</td>\n",
       "      <td>...</td>\n",
       "      <td>0.215759</td>\n",
       "      <td>0.277654</td>\n",
       "      <td>1.068477</td>\n",
       "      <td>7.412847</td>\n",
       "      <td>8.717951</td>\n",
       "      <td>0.374066</td>\n",
       "      <td>0.496429</td>\n",
       "      <td>3.054220</td>\n",
       "      <td>0.985774</td>\n",
       "      <td>2.071148</td>\n",
       "    </tr>\n",
       "    <tr>\n",
       "      <th>min</th>\n",
       "      <td>0.000000</td>\n",
       "      <td>0.000000</td>\n",
       "      <td>0.000000</td>\n",
       "      <td>0.000000</td>\n",
       "      <td>12.000000</td>\n",
       "      <td>0.000000</td>\n",
       "      <td>0.000000</td>\n",
       "      <td>0.000000</td>\n",
       "      <td>0.000000</td>\n",
       "      <td>0.000000</td>\n",
       "      <td>...</td>\n",
       "      <td>0.000000</td>\n",
       "      <td>0.000000</td>\n",
       "      <td>1.000000</td>\n",
       "      <td>0.000000</td>\n",
       "      <td>0.000000</td>\n",
       "      <td>0.000000</td>\n",
       "      <td>0.000000</td>\n",
       "      <td>1.000000</td>\n",
       "      <td>1.000000</td>\n",
       "      <td>1.000000</td>\n",
       "    </tr>\n",
       "    <tr>\n",
       "      <th>25%</th>\n",
       "      <td>0.000000</td>\n",
       "      <td>0.000000</td>\n",
       "      <td>0.000000</td>\n",
       "      <td>1.000000</td>\n",
       "      <td>24.000000</td>\n",
       "      <td>0.000000</td>\n",
       "      <td>0.000000</td>\n",
       "      <td>0.000000</td>\n",
       "      <td>1.000000</td>\n",
       "      <td>0.000000</td>\n",
       "      <td>...</td>\n",
       "      <td>1.000000</td>\n",
       "      <td>0.000000</td>\n",
       "      <td>2.000000</td>\n",
       "      <td>0.000000</td>\n",
       "      <td>0.000000</td>\n",
       "      <td>0.000000</td>\n",
       "      <td>0.000000</td>\n",
       "      <td>6.000000</td>\n",
       "      <td>4.000000</td>\n",
       "      <td>5.000000</td>\n",
       "    </tr>\n",
       "    <tr>\n",
       "      <th>50%</th>\n",
       "      <td>0.000000</td>\n",
       "      <td>0.000000</td>\n",
       "      <td>0.000000</td>\n",
       "      <td>1.000000</td>\n",
       "      <td>27.000000</td>\n",
       "      <td>0.000000</td>\n",
       "      <td>0.000000</td>\n",
       "      <td>0.000000</td>\n",
       "      <td>1.000000</td>\n",
       "      <td>1.000000</td>\n",
       "      <td>...</td>\n",
       "      <td>1.000000</td>\n",
       "      <td>0.000000</td>\n",
       "      <td>2.000000</td>\n",
       "      <td>0.000000</td>\n",
       "      <td>0.000000</td>\n",
       "      <td>0.000000</td>\n",
       "      <td>0.000000</td>\n",
       "      <td>8.000000</td>\n",
       "      <td>5.000000</td>\n",
       "      <td>7.000000</td>\n",
       "    </tr>\n",
       "    <tr>\n",
       "      <th>75%</th>\n",
       "      <td>0.000000</td>\n",
       "      <td>1.000000</td>\n",
       "      <td>1.000000</td>\n",
       "      <td>1.000000</td>\n",
       "      <td>31.000000</td>\n",
       "      <td>1.000000</td>\n",
       "      <td>0.000000</td>\n",
       "      <td>0.000000</td>\n",
       "      <td>1.000000</td>\n",
       "      <td>1.000000</td>\n",
       "      <td>...</td>\n",
       "      <td>1.000000</td>\n",
       "      <td>0.000000</td>\n",
       "      <td>3.000000</td>\n",
       "      <td>2.000000</td>\n",
       "      <td>3.000000</td>\n",
       "      <td>0.000000</td>\n",
       "      <td>1.000000</td>\n",
       "      <td>10.000000</td>\n",
       "      <td>6.000000</td>\n",
       "      <td>8.000000</td>\n",
       "    </tr>\n",
       "    <tr>\n",
       "      <th>max</th>\n",
       "      <td>1.000000</td>\n",
       "      <td>1.000000</td>\n",
       "      <td>1.000000</td>\n",
       "      <td>1.000000</td>\n",
       "      <td>98.000000</td>\n",
       "      <td>1.000000</td>\n",
       "      <td>1.000000</td>\n",
       "      <td>1.000000</td>\n",
       "      <td>1.000000</td>\n",
       "      <td>1.000000</td>\n",
       "      <td>...</td>\n",
       "      <td>1.000000</td>\n",
       "      <td>1.000000</td>\n",
       "      <td>5.000000</td>\n",
       "      <td>30.000000</td>\n",
       "      <td>30.000000</td>\n",
       "      <td>1.000000</td>\n",
       "      <td>1.000000</td>\n",
       "      <td>13.000000</td>\n",
       "      <td>6.000000</td>\n",
       "      <td>8.000000</td>\n",
       "    </tr>\n",
       "  </tbody>\n",
       "</table>\n",
       "<p>8 rows × 22 columns</p>\n",
       "</div>"
      ],
      "text/plain": [
       "       Diabetes_binary         HighBP       HighChol      CholCheck  \\\n",
       "count    253680.000000  253680.000000  253680.000000  253680.000000   \n",
       "mean          0.139333       0.429001       0.424121       0.962670   \n",
       "std           0.346294       0.494934       0.494210       0.189571   \n",
       "min           0.000000       0.000000       0.000000       0.000000   \n",
       "25%           0.000000       0.000000       0.000000       1.000000   \n",
       "50%           0.000000       0.000000       0.000000       1.000000   \n",
       "75%           0.000000       1.000000       1.000000       1.000000   \n",
       "max           1.000000       1.000000       1.000000       1.000000   \n",
       "\n",
       "                 BMI         Smoker         Stroke  HeartDiseaseorAttack  \\\n",
       "count  253680.000000  253680.000000  253680.000000         253680.000000   \n",
       "mean       28.382364       0.443169       0.040571              0.094186   \n",
       "std         6.608694       0.496761       0.197294              0.292087   \n",
       "min        12.000000       0.000000       0.000000              0.000000   \n",
       "25%        24.000000       0.000000       0.000000              0.000000   \n",
       "50%        27.000000       0.000000       0.000000              0.000000   \n",
       "75%        31.000000       1.000000       0.000000              0.000000   \n",
       "max        98.000000       1.000000       1.000000              1.000000   \n",
       "\n",
       "        PhysActivity         Fruits  ...  AnyHealthcare    NoDocbcCost  \\\n",
       "count  253680.000000  253680.000000  ...  253680.000000  253680.000000   \n",
       "mean        0.756544       0.634256  ...       0.951053       0.084177   \n",
       "std         0.429169       0.481639  ...       0.215759       0.277654   \n",
       "min         0.000000       0.000000  ...       0.000000       0.000000   \n",
       "25%         1.000000       0.000000  ...       1.000000       0.000000   \n",
       "50%         1.000000       1.000000  ...       1.000000       0.000000   \n",
       "75%         1.000000       1.000000  ...       1.000000       0.000000   \n",
       "max         1.000000       1.000000  ...       1.000000       1.000000   \n",
       "\n",
       "             GenHlth       MentHlth       PhysHlth       DiffWalk  \\\n",
       "count  253680.000000  253680.000000  253680.000000  253680.000000   \n",
       "mean        2.511392       3.184772       4.242081       0.168224   \n",
       "std         1.068477       7.412847       8.717951       0.374066   \n",
       "min         1.000000       0.000000       0.000000       0.000000   \n",
       "25%         2.000000       0.000000       0.000000       0.000000   \n",
       "50%         2.000000       0.000000       0.000000       0.000000   \n",
       "75%         3.000000       2.000000       3.000000       0.000000   \n",
       "max         5.000000      30.000000      30.000000       1.000000   \n",
       "\n",
       "                 Sex            Age      Education         Income  \n",
       "count  253680.000000  253680.000000  253680.000000  253680.000000  \n",
       "mean        0.440342       8.032119       5.050434       6.053875  \n",
       "std         0.496429       3.054220       0.985774       2.071148  \n",
       "min         0.000000       1.000000       1.000000       1.000000  \n",
       "25%         0.000000       6.000000       4.000000       5.000000  \n",
       "50%         0.000000       8.000000       5.000000       7.000000  \n",
       "75%         1.000000      10.000000       6.000000       8.000000  \n",
       "max         1.000000      13.000000       6.000000       8.000000  \n",
       "\n",
       "[8 rows x 22 columns]"
      ]
     },
     "execution_count": 4,
     "metadata": {},
     "output_type": "execute_result"
    }
   ],
   "source": [
    "df.describe()"
   ]
  },
  {
   "cell_type": "code",
   "execution_count": 5,
   "id": "bdb766e4-4edb-4c95-848d-9d185c6c8540",
   "metadata": {},
   "outputs": [],
   "source": [
    "df = df.dropna()"
   ]
  },
  {
   "cell_type": "code",
   "execution_count": 6,
   "id": "4c48f1b7-e3f0-40ad-a896-485026d908e5",
   "metadata": {},
   "outputs": [
    {
     "data": {
      "text/html": [
       "<div>\n",
       "<style scoped>\n",
       "    .dataframe tbody tr th:only-of-type {\n",
       "        vertical-align: middle;\n",
       "    }\n",
       "\n",
       "    .dataframe tbody tr th {\n",
       "        vertical-align: top;\n",
       "    }\n",
       "\n",
       "    .dataframe thead th {\n",
       "        text-align: right;\n",
       "    }\n",
       "</style>\n",
       "<table border=\"1\" class=\"dataframe\">\n",
       "  <thead>\n",
       "    <tr style=\"text-align: right;\">\n",
       "      <th></th>\n",
       "      <th>Diabetes_binary</th>\n",
       "      <th>HighBP</th>\n",
       "      <th>HighChol</th>\n",
       "      <th>CholCheck</th>\n",
       "      <th>BMI</th>\n",
       "      <th>Smoker</th>\n",
       "      <th>Stroke</th>\n",
       "      <th>HeartDiseaseorAttack</th>\n",
       "      <th>PhysActivity</th>\n",
       "      <th>Fruits</th>\n",
       "      <th>...</th>\n",
       "      <th>AnyHealthcare</th>\n",
       "      <th>NoDocbcCost</th>\n",
       "      <th>GenHlth</th>\n",
       "      <th>MentHlth</th>\n",
       "      <th>PhysHlth</th>\n",
       "      <th>DiffWalk</th>\n",
       "      <th>Sex</th>\n",
       "      <th>Age</th>\n",
       "      <th>Education</th>\n",
       "      <th>Income</th>\n",
       "    </tr>\n",
       "  </thead>\n",
       "  <tbody>\n",
       "    <tr>\n",
       "      <th>count</th>\n",
       "      <td>253680.000000</td>\n",
       "      <td>253680.000000</td>\n",
       "      <td>253680.000000</td>\n",
       "      <td>253680.000000</td>\n",
       "      <td>253680.000000</td>\n",
       "      <td>253680.000000</td>\n",
       "      <td>253680.000000</td>\n",
       "      <td>253680.000000</td>\n",
       "      <td>253680.000000</td>\n",
       "      <td>253680.000000</td>\n",
       "      <td>...</td>\n",
       "      <td>253680.000000</td>\n",
       "      <td>253680.000000</td>\n",
       "      <td>253680.000000</td>\n",
       "      <td>253680.000000</td>\n",
       "      <td>253680.000000</td>\n",
       "      <td>253680.000000</td>\n",
       "      <td>253680.000000</td>\n",
       "      <td>253680.000000</td>\n",
       "      <td>253680.000000</td>\n",
       "      <td>253680.000000</td>\n",
       "    </tr>\n",
       "    <tr>\n",
       "      <th>mean</th>\n",
       "      <td>0.139333</td>\n",
       "      <td>0.429001</td>\n",
       "      <td>0.424121</td>\n",
       "      <td>0.962670</td>\n",
       "      <td>28.382364</td>\n",
       "      <td>0.443169</td>\n",
       "      <td>0.040571</td>\n",
       "      <td>0.094186</td>\n",
       "      <td>0.756544</td>\n",
       "      <td>0.634256</td>\n",
       "      <td>...</td>\n",
       "      <td>0.951053</td>\n",
       "      <td>0.084177</td>\n",
       "      <td>2.511392</td>\n",
       "      <td>3.184772</td>\n",
       "      <td>4.242081</td>\n",
       "      <td>0.168224</td>\n",
       "      <td>0.440342</td>\n",
       "      <td>8.032119</td>\n",
       "      <td>5.050434</td>\n",
       "      <td>6.053875</td>\n",
       "    </tr>\n",
       "    <tr>\n",
       "      <th>std</th>\n",
       "      <td>0.346294</td>\n",
       "      <td>0.494934</td>\n",
       "      <td>0.494210</td>\n",
       "      <td>0.189571</td>\n",
       "      <td>6.608694</td>\n",
       "      <td>0.496761</td>\n",
       "      <td>0.197294</td>\n",
       "      <td>0.292087</td>\n",
       "      <td>0.429169</td>\n",
       "      <td>0.481639</td>\n",
       "      <td>...</td>\n",
       "      <td>0.215759</td>\n",
       "      <td>0.277654</td>\n",
       "      <td>1.068477</td>\n",
       "      <td>7.412847</td>\n",
       "      <td>8.717951</td>\n",
       "      <td>0.374066</td>\n",
       "      <td>0.496429</td>\n",
       "      <td>3.054220</td>\n",
       "      <td>0.985774</td>\n",
       "      <td>2.071148</td>\n",
       "    </tr>\n",
       "    <tr>\n",
       "      <th>min</th>\n",
       "      <td>0.000000</td>\n",
       "      <td>0.000000</td>\n",
       "      <td>0.000000</td>\n",
       "      <td>0.000000</td>\n",
       "      <td>12.000000</td>\n",
       "      <td>0.000000</td>\n",
       "      <td>0.000000</td>\n",
       "      <td>0.000000</td>\n",
       "      <td>0.000000</td>\n",
       "      <td>0.000000</td>\n",
       "      <td>...</td>\n",
       "      <td>0.000000</td>\n",
       "      <td>0.000000</td>\n",
       "      <td>1.000000</td>\n",
       "      <td>0.000000</td>\n",
       "      <td>0.000000</td>\n",
       "      <td>0.000000</td>\n",
       "      <td>0.000000</td>\n",
       "      <td>1.000000</td>\n",
       "      <td>1.000000</td>\n",
       "      <td>1.000000</td>\n",
       "    </tr>\n",
       "    <tr>\n",
       "      <th>25%</th>\n",
       "      <td>0.000000</td>\n",
       "      <td>0.000000</td>\n",
       "      <td>0.000000</td>\n",
       "      <td>1.000000</td>\n",
       "      <td>24.000000</td>\n",
       "      <td>0.000000</td>\n",
       "      <td>0.000000</td>\n",
       "      <td>0.000000</td>\n",
       "      <td>1.000000</td>\n",
       "      <td>0.000000</td>\n",
       "      <td>...</td>\n",
       "      <td>1.000000</td>\n",
       "      <td>0.000000</td>\n",
       "      <td>2.000000</td>\n",
       "      <td>0.000000</td>\n",
       "      <td>0.000000</td>\n",
       "      <td>0.000000</td>\n",
       "      <td>0.000000</td>\n",
       "      <td>6.000000</td>\n",
       "      <td>4.000000</td>\n",
       "      <td>5.000000</td>\n",
       "    </tr>\n",
       "    <tr>\n",
       "      <th>50%</th>\n",
       "      <td>0.000000</td>\n",
       "      <td>0.000000</td>\n",
       "      <td>0.000000</td>\n",
       "      <td>1.000000</td>\n",
       "      <td>27.000000</td>\n",
       "      <td>0.000000</td>\n",
       "      <td>0.000000</td>\n",
       "      <td>0.000000</td>\n",
       "      <td>1.000000</td>\n",
       "      <td>1.000000</td>\n",
       "      <td>...</td>\n",
       "      <td>1.000000</td>\n",
       "      <td>0.000000</td>\n",
       "      <td>2.000000</td>\n",
       "      <td>0.000000</td>\n",
       "      <td>0.000000</td>\n",
       "      <td>0.000000</td>\n",
       "      <td>0.000000</td>\n",
       "      <td>8.000000</td>\n",
       "      <td>5.000000</td>\n",
       "      <td>7.000000</td>\n",
       "    </tr>\n",
       "    <tr>\n",
       "      <th>75%</th>\n",
       "      <td>0.000000</td>\n",
       "      <td>1.000000</td>\n",
       "      <td>1.000000</td>\n",
       "      <td>1.000000</td>\n",
       "      <td>31.000000</td>\n",
       "      <td>1.000000</td>\n",
       "      <td>0.000000</td>\n",
       "      <td>0.000000</td>\n",
       "      <td>1.000000</td>\n",
       "      <td>1.000000</td>\n",
       "      <td>...</td>\n",
       "      <td>1.000000</td>\n",
       "      <td>0.000000</td>\n",
       "      <td>3.000000</td>\n",
       "      <td>2.000000</td>\n",
       "      <td>3.000000</td>\n",
       "      <td>0.000000</td>\n",
       "      <td>1.000000</td>\n",
       "      <td>10.000000</td>\n",
       "      <td>6.000000</td>\n",
       "      <td>8.000000</td>\n",
       "    </tr>\n",
       "    <tr>\n",
       "      <th>max</th>\n",
       "      <td>1.000000</td>\n",
       "      <td>1.000000</td>\n",
       "      <td>1.000000</td>\n",
       "      <td>1.000000</td>\n",
       "      <td>98.000000</td>\n",
       "      <td>1.000000</td>\n",
       "      <td>1.000000</td>\n",
       "      <td>1.000000</td>\n",
       "      <td>1.000000</td>\n",
       "      <td>1.000000</td>\n",
       "      <td>...</td>\n",
       "      <td>1.000000</td>\n",
       "      <td>1.000000</td>\n",
       "      <td>5.000000</td>\n",
       "      <td>30.000000</td>\n",
       "      <td>30.000000</td>\n",
       "      <td>1.000000</td>\n",
       "      <td>1.000000</td>\n",
       "      <td>13.000000</td>\n",
       "      <td>6.000000</td>\n",
       "      <td>8.000000</td>\n",
       "    </tr>\n",
       "  </tbody>\n",
       "</table>\n",
       "<p>8 rows × 22 columns</p>\n",
       "</div>"
      ],
      "text/plain": [
       "       Diabetes_binary         HighBP       HighChol      CholCheck  \\\n",
       "count    253680.000000  253680.000000  253680.000000  253680.000000   \n",
       "mean          0.139333       0.429001       0.424121       0.962670   \n",
       "std           0.346294       0.494934       0.494210       0.189571   \n",
       "min           0.000000       0.000000       0.000000       0.000000   \n",
       "25%           0.000000       0.000000       0.000000       1.000000   \n",
       "50%           0.000000       0.000000       0.000000       1.000000   \n",
       "75%           0.000000       1.000000       1.000000       1.000000   \n",
       "max           1.000000       1.000000       1.000000       1.000000   \n",
       "\n",
       "                 BMI         Smoker         Stroke  HeartDiseaseorAttack  \\\n",
       "count  253680.000000  253680.000000  253680.000000         253680.000000   \n",
       "mean       28.382364       0.443169       0.040571              0.094186   \n",
       "std         6.608694       0.496761       0.197294              0.292087   \n",
       "min        12.000000       0.000000       0.000000              0.000000   \n",
       "25%        24.000000       0.000000       0.000000              0.000000   \n",
       "50%        27.000000       0.000000       0.000000              0.000000   \n",
       "75%        31.000000       1.000000       0.000000              0.000000   \n",
       "max        98.000000       1.000000       1.000000              1.000000   \n",
       "\n",
       "        PhysActivity         Fruits  ...  AnyHealthcare    NoDocbcCost  \\\n",
       "count  253680.000000  253680.000000  ...  253680.000000  253680.000000   \n",
       "mean        0.756544       0.634256  ...       0.951053       0.084177   \n",
       "std         0.429169       0.481639  ...       0.215759       0.277654   \n",
       "min         0.000000       0.000000  ...       0.000000       0.000000   \n",
       "25%         1.000000       0.000000  ...       1.000000       0.000000   \n",
       "50%         1.000000       1.000000  ...       1.000000       0.000000   \n",
       "75%         1.000000       1.000000  ...       1.000000       0.000000   \n",
       "max         1.000000       1.000000  ...       1.000000       1.000000   \n",
       "\n",
       "             GenHlth       MentHlth       PhysHlth       DiffWalk  \\\n",
       "count  253680.000000  253680.000000  253680.000000  253680.000000   \n",
       "mean        2.511392       3.184772       4.242081       0.168224   \n",
       "std         1.068477       7.412847       8.717951       0.374066   \n",
       "min         1.000000       0.000000       0.000000       0.000000   \n",
       "25%         2.000000       0.000000       0.000000       0.000000   \n",
       "50%         2.000000       0.000000       0.000000       0.000000   \n",
       "75%         3.000000       2.000000       3.000000       0.000000   \n",
       "max         5.000000      30.000000      30.000000       1.000000   \n",
       "\n",
       "                 Sex            Age      Education         Income  \n",
       "count  253680.000000  253680.000000  253680.000000  253680.000000  \n",
       "mean        0.440342       8.032119       5.050434       6.053875  \n",
       "std         0.496429       3.054220       0.985774       2.071148  \n",
       "min         0.000000       1.000000       1.000000       1.000000  \n",
       "25%         0.000000       6.000000       4.000000       5.000000  \n",
       "50%         0.000000       8.000000       5.000000       7.000000  \n",
       "75%         1.000000      10.000000       6.000000       8.000000  \n",
       "max         1.000000      13.000000       6.000000       8.000000  \n",
       "\n",
       "[8 rows x 22 columns]"
      ]
     },
     "execution_count": 6,
     "metadata": {},
     "output_type": "execute_result"
    }
   ],
   "source": [
    "df.describe()"
   ]
  },
  {
   "cell_type": "code",
   "execution_count": 7,
   "id": "ad0123af-efb0-423a-9dbd-a6e427bc5bab",
   "metadata": {},
   "outputs": [
    {
     "data": {
      "text/plain": [
       "Diabetes_binary         float64\n",
       "HighBP                  float64\n",
       "HighChol                float64\n",
       "CholCheck               float64\n",
       "BMI                     float64\n",
       "Smoker                  float64\n",
       "Stroke                  float64\n",
       "HeartDiseaseorAttack    float64\n",
       "PhysActivity            float64\n",
       "Fruits                  float64\n",
       "Veggies                 float64\n",
       "HvyAlcoholConsump       float64\n",
       "AnyHealthcare           float64\n",
       "NoDocbcCost             float64\n",
       "GenHlth                 float64\n",
       "MentHlth                float64\n",
       "PhysHlth                float64\n",
       "DiffWalk                float64\n",
       "Sex                     float64\n",
       "Age                     float64\n",
       "Education               float64\n",
       "Income                  float64\n",
       "dtype: object"
      ]
     },
     "execution_count": 7,
     "metadata": {},
     "output_type": "execute_result"
    }
   ],
   "source": [
    "df.dtypes"
   ]
  },
  {
   "cell_type": "code",
   "execution_count": 8,
   "id": "00b82c57-5f16-4ef9-8676-24398a7680d7",
   "metadata": {},
   "outputs": [
    {
     "name": "stderr",
     "output_type": "stream",
     "text": [
      "/Users/suenchihang/opt/anaconda3/envs/rosetta_rl/lib/python3.9/site-packages/pandas/plotting/_matplotlib/core.py:345: RuntimeWarning: More than 20 figures have been opened. Figures created through the pyplot interface (`matplotlib.pyplot.figure`) are retained until explicitly closed and may consume too much memory. (To control this warning, see the rcParam `figure.max_open_warning`).\n",
      "  fig = self.plt.figure(figsize=self.figsize)\n"
     ]
    },
    {
     "data": {
      "image/png": "[encoded data removed]",
      "text/plain": [
       "<Figure size 432x288 with 1 Axes>"
      ]
     },
     "metadata": {
      "needs_background": "light"
     },
     "output_type": "display_data"
    },
    {
     "data": {
      "image/png": "[encoded data removed]",
      "text/plain": [
       "<Figure size 432x288 with 1 Axes>"
      ]
     },
     "metadata": {
      "needs_background": "light"
     },
     "output_type": "display_data"
    },
    {
     "data": {
      "image/png": "[encoded data removed]",
      "text/plain": [
       "<Figure size 432x288 with 1 Axes>"
      ]
     },
     "metadata": {
      "needs_background": "light"
     },
     "output_type": "display_data"
    },
    {
     "data": {
      "image/png": "[encoded data removed]",
      "text/plain": [
       "<Figure size 432x288 with 1 Axes>"
      ]
     },
     "metadata": {
      "needs_background": "light"
     },
     "output_type": "display_data"
    },
    {
     "data": {
      "image/png": "[encoded data removed]",
      "text/plain": [
       "<Figure size 432x288 with 1 Axes>"
      ]
     },
     "metadata": {
      "needs_background": "light"
     },
     "output_type": "display_data"
    },
    {
     "data": {
      "image/png": "[encoded data removed]",
      "text/plain": [
       "<Figure size 432x288 with 1 Axes>"
      ]
     },
     "metadata": {
      "needs_background": "light"
     },
     "output_type": "display_data"
    },
    {
     "data": {
      "image/png": "[encoded data removed]",
      "text/plain": [
       "<Figure size 432x288 with 1 Axes>"
      ]
     },
     "metadata": {
      "needs_background": "light"
     },
     "output_type": "display_data"
    },
    {
     "data": {
      "image/png": "[encoded data removed]",
      "text/plain": [
       "<Figure size 432x288 with 1 Axes>"
      ]
     },
     "metadata": {
      "needs_background": "light"
     },
     "output_type": "display_data"
    },
    {
     "data": {
      "image/png": "[encoded data removed]",
      "text/plain": [
       "<Figure size 432x288 with 1 Axes>"
      ]
     },
     "metadata": {
      "needs_background": "light"
     },
     "output_type": "display_data"
    },
    {
     "data": {
      "image/png": "[encoded data removed]",
      "text/plain": [
       "<Figure size 432x288 with 1 Axes>"
      ]
     },
     "metadata": {
      "needs_background": "light"
     },
     "output_type": "display_data"
    },
    {
     "data": {
      "image/png": "[encoded data removed]",
      "text/plain": [
       "<Figure size 432x288 with 1 Axes>"
      ]
     },
     "metadata": {
      "needs_background": "light"
     },
     "output_type": "display_data"
    },
    {
     "data": {
      "image/png": "[encoded data removed]",
      "text/plain": [
       "<Figure size 432x288 with 1 Axes>"
      ]
     },
     "metadata": {
      "needs_background": "light"
     },
     "output_type": "display_data"
    },
    {
     "data": {
      "image/png": "[encoded data removed]",
      "text/plain": [
       "<Figure size 432x288 with 1 Axes>"
      ]
     },
     "metadata": {
      "needs_background": "light"
     },
     "output_type": "display_data"
    },
    {
     "data": {
      "image/png": "[encoded data removed]",
      "text/plain": [
       "<Figure size 432x288 with 1 Axes>"
      ]
     },
     "metadata": {
      "needs_background": "light"
     },
     "output_type": "display_data"
    },
    {
     "data": {
      "image/png": "[encoded data removed]",
      "text/plain": [
       "<Figure size 432x288 with 1 Axes>"
      ]
     },
     "metadata": {
      "needs_background": "light"
     },
     "output_type": "display_data"
    },
    {
     "data": {
      "image/png": "[encoded data removed]",
      "text/plain": [
       "<Figure size 432x288 with 1 Axes>"
      ]
     },
     "metadata": {
      "needs_background": "light"
     },
     "output_type": "display_data"
    },
    {
     "data": {
      "image/png": "[encoded data removed]",
      "text/plain": [
       "<Figure size 432x288 with 1 Axes>"
      ]
     },
     "metadata": {
      "needs_background": "light"
     },
     "output_type": "display_data"
    },
    {
     "data": {
      "image/png": "[encoded data removed]",
      "text/plain": [
       "<Figure size 432x288 with 1 Axes>"
      ]
     },
     "metadata": {
      "needs_background": "light"
     },
     "output_type": "display_data"
    },
    {
     "data": {
      "image/png": "[encoded data removed]",
      "text/plain": [
       "<Figure size 432x288 with 1 Axes>"
      ]
     },
     "metadata": {
      "needs_background": "light"
     },
     "output_type": "display_data"
    },
    {
     "data": {
      "image/png": "[encoded data removed]",
      "text/plain": [
       "<Figure size 432x288 with 1 Axes>"
      ]
     },
     "metadata": {
      "needs_background": "light"
     },
     "output_type": "display_data"
    },
    {
     "data": {
      "image/png": "[encoded data removed]",
      "text/plain": [
       "<Figure size 432x288 with 1 Axes>"
      ]
     },
     "metadata": {
      "needs_background": "light"
     },
     "output_type": "display_data"
    }
   ],
   "source": [
    "columns = list(df.columns)\n",
    "columns.remove('Diabetes_binary')\n",
    "\n",
    "\n",
    "for feature in columns:\n",
    "    df.plot(x='Diabetes_binary', y=feature , style='o')"
   ]
  },
  {
   "cell_type": "code",
   "execution_count": 9,
   "id": "b3663573-1f06-4919-8105-2d5342bb7101",
   "metadata": {},
   "outputs": [
    {
     "data": {
      "text/plain": [
       "<AxesSubplot:>"
      ]
     },
     "execution_count": 9,
     "metadata": {},
     "output_type": "execute_result"
    },
    {
     "data": {
      "image/png": "[encoded data removed]",
      "text/plain": [
       "<Figure size 720x720 with 2 Axes>"
      ]
     },
     "metadata": {
      "needs_background": "light"
     },
     "output_type": "display_data"
    }
   ],
   "source": [
    "# Creating pearson correlation matrix and ploting it\n",
    "cor_mat = df.corr(method= 'pearson')\n",
    "fig = plt.figure(figsize=(10,10))\n",
    "sns.heatmap(cor_mat)"
   ]
  },
  {
   "cell_type": "markdown",
   "id": "525f82be-5e3a-4b2a-aece-e40f46d560e2",
   "metadata": {},
   "source": [
    "## Split for testing"
   ]
  },
  {
   "cell_type": "code",
   "execution_count": 10,
   "id": "57d15a47-af50-4de5-a08b-727f4f09b64d",
   "metadata": {},
   "outputs": [],
   "source": [
    "y = df['Diabetes_binary']\n",
    "X = df.drop(['Diabetes_binary'], axis = 1)\n",
    "X_train, X_test, y_train, y_test = train_test_split(X, y, test_size=0.1, shuffle=True, random_state=42)"
   ]
  },
  {
   "cell_type": "markdown",
   "id": "749c1f5d-7b81-4833-b58c-a16837aef45f",
   "metadata": {},
   "source": [
    "#### Random Forest"
   ]
  },
  {
   "cell_type": "code",
   "execution_count": 11,
   "id": "66fef88a-5ff1-4a78-aead-252d28d4babd",
   "metadata": {},
   "outputs": [
    {
     "data": {
      "text/plain": [
       "RandomForestClassifier(max_samples=0.9, n_estimators=200, random_state=42)"
      ]
     },
     "execution_count": 11,
     "metadata": {},
     "output_type": "execute_result"
    }
   ],
   "source": [
    "from sklearn.ensemble import RandomForestClassifier\n",
    "# note: top 3 hyperparameters: n_estimators, max_features, max_samples\n",
    "rf_model = RandomForestClassifier(n_estimators=200, max_features='auto', max_samples=0.9, random_state=42)\n",
    "rf_model.fit(X_train, y_train)"
   ]
  },
  {
   "cell_type": "code",
   "execution_count": 12,
   "id": "61ff7cfa-b914-4684-adec-2a0a9d33eb2b",
   "metadata": {},
   "outputs": [
    {
     "data": {
      "text/plain": [
       "array([0., 0., 0., ..., 0., 0., 0.])"
      ]
     },
     "execution_count": 12,
     "metadata": {},
     "output_type": "execute_result"
    }
   ],
   "source": [
    "predictions = rf_model.predict(X_test)\n",
    "predictions"
   ]
  },
  {
   "cell_type": "code",
   "execution_count": 13,
   "id": "2a59502b-9402-4335-a6e2-c298410c61fa",
   "metadata": {},
   "outputs": [
    {
     "data": {
      "text/plain": [
       "array([0., 1.])"
      ]
     },
     "execution_count": 13,
     "metadata": {},
     "output_type": "execute_result"
    }
   ],
   "source": [
    "rf_model.classes_"
   ]
  },
  {
   "cell_type": "code",
   "execution_count": 14,
   "id": "a6c37eb7-d1b2-4a1e-8d1d-87f03fa71bdb",
   "metadata": {},
   "outputs": [
    {
     "data": {
      "text/plain": [
       "array([0.04237379, 0.02630765, 0.00365297, 0.18323783, 0.03326289,\n",
       "       0.01243151, 0.01792592, 0.02678867, 0.03343255, 0.02662676,\n",
       "       0.00773834, 0.00861085, 0.01489495, 0.07054946, 0.06463023,\n",
       "       0.08398397, 0.02415047, 0.02774484, 0.12261083, 0.07027472,\n",
       "       0.09877081])"
      ]
     },
     "execution_count": 14,
     "metadata": {},
     "output_type": "execute_result"
    }
   ],
   "source": [
    "rf_model.feature_importances_"
   ]
  },
  {
   "cell_type": "code",
   "execution_count": 15,
   "id": "7e962823-723b-4101-8a78-f9bb8f1fb8f7",
   "metadata": {},
   "outputs": [
    {
     "data": {
      "text/plain": [
       "array([[0.96  , 0.04  ],\n",
       "       [0.863 , 0.137 ],\n",
       "       [1.    , 0.    ],\n",
       "       ...,\n",
       "       [0.815 , 0.185 ],\n",
       "       [0.6545, 0.3455],\n",
       "       [0.975 , 0.025 ]])"
      ]
     },
     "execution_count": 15,
     "metadata": {},
     "output_type": "execute_result"
    }
   ],
   "source": [
    "rf_model.predict_proba(X_test)"
   ]
  },
  {
   "cell_type": "code",
   "execution_count": 16,
   "id": "172d026c-dcd4-4379-85ff-adf2bbe6e43d",
   "metadata": {},
   "outputs": [
    {
     "data": {
      "text/plain": [
       "219620     True\n",
       "132821     True\n",
       "151862     True\n",
       "139717     True\n",
       "239235     True\n",
       "          ...  \n",
       "58128      True\n",
       "99874      True\n",
       "194090    False\n",
       "156719    False\n",
       "186298     True\n",
       "Name: Diabetes_binary, Length: 25368, dtype: bool"
      ]
     },
     "execution_count": 16,
     "metadata": {},
     "output_type": "execute_result"
    }
   ],
   "source": [
    "predictions == y_test"
   ]
  },
  {
   "cell_type": "code",
   "execution_count": 17,
   "id": "a4d34a6d-da1e-4738-82b0-f06d19ea8105",
   "metadata": {},
   "outputs": [
    {
     "data": {
      "text/plain": [
       "0.8612030905077263"
      ]
     },
     "execution_count": 17,
     "metadata": {},
     "output_type": "execute_result"
    }
   ],
   "source": [
    "# accuracy\n",
    "np.sum(np.array(predictions == y_test))/len(y_test)"
   ]
  },
  {
   "cell_type": "code",
   "execution_count": 18,
   "id": "456408de-f97a-4ab4-a8ed-8d4ecd7cbf64",
   "metadata": {},
   "outputs": [
    {
     "name": "stdout",
     "output_type": "stream",
     "text": [
      "[[21199   675]\n",
      " [ 2846   648]]\n",
      "              precision    recall  f1-score   support\n",
      "\n",
      "         0.0      0.882     0.969     0.923     21874\n",
      "         1.0      0.490     0.185     0.269      3494\n",
      "\n",
      "    accuracy                          0.861     25368\n",
      "   macro avg      0.686     0.577     0.596     25368\n",
      "weighted avg      0.828     0.861     0.833     25368\n",
      "\n"
     ]
    }
   ],
   "source": [
    "from sklearn import metrics\n",
    "# Print the confusion matrix\n",
    "print(metrics.confusion_matrix(y_test, predictions))\n",
    "\n",
    "# Print the precision and recall, among other metrics\n",
    "print(metrics.classification_report(y_test, predictions, digits=3))"
   ]
  },
  {
   "cell_type": "code",
   "execution_count": 19,
   "id": "9a22de71-c554-4103-bea8-b1825517f80f",
   "metadata": {},
   "outputs": [
    {
     "name": "stdout",
     "output_type": "stream",
     "text": [
      "ROC_AUC:  0.8044470061374038\n"
     ]
    }
   ],
   "source": [
    "from sklearn.metrics import roc_auc_score\n",
    "\n",
    "#print ROC_AUC\n",
    "print('ROC_AUC: ', roc_auc_score(y_test, rf_model.predict_proba(X_test)[:,1]))"
   ]
  },
  {
   "cell_type": "markdown",
   "id": "2dc14d5d-8ab5-40fb-a3b3-b53644e74b23",
   "metadata": {},
   "source": [
    "#### Gradient Boosting"
   ]
  },
  {
   "cell_type": "code",
   "execution_count": 20,
   "id": "344d1d00-93f4-4e67-a42e-c2e8160abd53",
   "metadata": {},
   "outputs": [
    {
     "name": "stdout",
     "output_type": "stream",
     "text": [
      "Mean Accuracy: 0.866 (0.001)\n"
     ]
    }
   ],
   "source": [
    "# evaluate gradient boosting algorithm for classification\n",
    "# https://machinelearningmastery.com/gradient-boosting-machine-ensemble-in-python/\n",
    "from numpy import mean\n",
    "from numpy import std\n",
    "from sklearn.model_selection import cross_val_score\n",
    "from sklearn.model_selection import RepeatedStratifiedKFold\n",
    "from sklearn.ensemble import GradientBoostingClassifier\n",
    "\n",
    "# define the model\n",
    "gb_model = GradientBoostingClassifier()\n",
    "# define the evaluation method\n",
    "cv = RepeatedStratifiedKFold(n_splits=10, n_repeats=3, random_state=1)\n",
    "# evaluate the model on the dataset\n",
    "n_scores = cross_val_score(gb_model, X, y, scoring='accuracy', cv=cv, n_jobs=-1)\n",
    "# report performance\n",
    "print('Mean Accuracy: %.3f (%.3f)' % (mean(n_scores), std(n_scores)))"
   ]
  },
  {
   "cell_type": "code",
   "execution_count": 21,
   "id": "319deafb-a46f-4991-8475-777cd84f7288",
   "metadata": {},
   "outputs": [],
   "source": [
    "gb_model.fit(X_train, y_train)\n",
    "y_pred = gb_model.predict(X_test)"
   ]
  },
  {
   "cell_type": "code",
   "execution_count": 22,
   "id": "c45f5da9-6202-4217-a9c7-c4a2c1451a50",
   "metadata": {},
   "outputs": [
    {
     "data": {
      "text/plain": [
       "array([2.66097284e-01, 7.54864923e-02, 6.63490188e-03, 1.70792592e-01,\n",
       "       4.70528031e-04, 2.71429138e-03, 2.86486253e-02, 1.95579315e-04,\n",
       "       2.07751287e-04, 2.22769018e-04, 1.04044564e-02, 1.10559816e-04,\n",
       "       3.66802644e-04, 2.89292243e-01, 1.34491897e-03, 1.47002613e-03,\n",
       "       4.62426551e-02, 6.18443369e-03, 7.97029256e-02, 2.01427440e-03,\n",
       "       1.13958891e-02])"
      ]
     },
     "execution_count": 22,
     "metadata": {},
     "output_type": "execute_result"
    }
   ],
   "source": [
    "gb_model.feature_importances_"
   ]
  },
  {
   "cell_type": "code",
   "execution_count": 23,
   "id": "9250dbb5-5e4d-4692-a2de-15acbaa66d42",
   "metadata": {},
   "outputs": [
    {
     "name": "stdout",
     "output_type": "stream",
     "text": [
      "[[21377   497]\n",
      " [ 2877   617]]\n",
      "              precision    recall  f1-score   support\n",
      "\n",
      "         0.0      0.881     0.977     0.927     21874\n",
      "         1.0      0.554     0.177     0.268      3494\n",
      "\n",
      "    accuracy                          0.867     25368\n",
      "   macro avg      0.718     0.577     0.597     25368\n",
      "weighted avg      0.836     0.867     0.836     25368\n",
      "\n"
     ]
    }
   ],
   "source": [
    "# Print the confusion matrix\n",
    "print(metrics.confusion_matrix(y_test, y_pred))\n",
    "\n",
    "# Print the precision and recall, among other metrics\n",
    "print(metrics.classification_report(y_test, y_pred, digits=3))"
   ]
  },
  {
   "cell_type": "code",
   "execution_count": 24,
   "id": "fecefab2-b2e7-43b1-ad14-1c90b279c764",
   "metadata": {},
   "outputs": [
    {
     "name": "stdout",
     "output_type": "stream",
     "text": [
      "ROC_AUC:  0.8329477382536261\n"
     ]
    }
   ],
   "source": [
    "#print ROC_AUC\n",
    "print('ROC_AUC: ', roc_auc_score(y_test, gb_model.predict_proba(X_test)[:, 1]))"
   ]
  },
  {
   "cell_type": "markdown",
   "id": "42c141c9-e177-4147-960d-3e4b44cfa2d8",
   "metadata": {
    "tags": []
   },
   "source": [
    "#### Neural Network"
   ]
  },
  {
   "cell_type": "code",
   "execution_count": 25,
   "id": "8b1d345e-0127-456c-a5a8-5122dd5664f4",
   "metadata": {},
   "outputs": [],
   "source": [
    "import keras\n",
    "from keras.models import Sequential\n",
    "from keras.layers import Dense, Activation, Flatten\n",
    "from tensorflow.keras.optimizers import SGD, Adam, RMSprop\n",
    "from tensorflow.keras import regularizers\n",
    "from keras.layers import Dropout\n",
    "from keras.utils import to_categorical"
   ]
  },
  {
   "cell_type": "code",
   "execution_count": 26,
   "id": "fdacaa00-cc07-45db-9f15-dbee33d9fc56",
   "metadata": {},
   "outputs": [],
   "source": [
    "#y_train_onehot = to_categorical(y_train)\n",
    "#y_test_onehot = to_categorical(y_test)"
   ]
  },
  {
   "cell_type": "code",
   "execution_count": 28,
   "id": "5165aa3f-e013-41c7-9433-2c7f926132a6",
   "metadata": {},
   "outputs": [
    {
     "name": "stdout",
     "output_type": "stream",
     "text": [
      "training model ...\n"
     ]
    },
    {
     "name": "stderr",
     "output_type": "stream",
     "text": [
      "2023-02-08 00:12:52.663869: I tensorflow/compiler/mlir/mlir_graph_optimization_pass.cc:116] None of the MLIR optimization passes are enabled (registered 2)\n"
     ]
    },
    {
     "name": "stdout",
     "output_type": "stream",
     "text": [
      "Train set min loss: 0.4149763286113739\n",
      "Val set min loss: 0.4010081887245178\n",
      "[[21874     0]\n",
      " [ 3494     0]]\n",
      "              precision    recall  f1-score   support\n",
      "\n",
      "         0.0      0.862     1.000     0.926     21874\n",
      "         1.0      0.000     0.000     0.000      3494\n",
      "\n",
      "    accuracy                          0.862     25368\n",
      "   macro avg      0.431     0.500     0.463     25368\n",
      "weighted avg      0.744     0.862     0.798     25368\n",
      "\n"
     ]
    },
    {
     "name": "stderr",
     "output_type": "stream",
     "text": [
      "/Users/suenchihang/opt/anaconda3/envs/rosetta_rl/lib/python3.9/site-packages/sklearn/metrics/_classification.py:1308: UndefinedMetricWarning: Precision and F-score are ill-defined and being set to 0.0 in labels with no predicted samples. Use `zero_division` parameter to control this behavior.\n",
      "  _warn_prf(average, modifier, msg_start, len(result))\n",
      "/Users/suenchihang/opt/anaconda3/envs/rosetta_rl/lib/python3.9/site-packages/sklearn/metrics/_classification.py:1308: UndefinedMetricWarning: Precision and F-score are ill-defined and being set to 0.0 in labels with no predicted samples. Use `zero_division` parameter to control this behavior.\n",
      "  _warn_prf(average, modifier, msg_start, len(result))\n",
      "/Users/suenchihang/opt/anaconda3/envs/rosetta_rl/lib/python3.9/site-packages/sklearn/metrics/_classification.py:1308: UndefinedMetricWarning: Precision and F-score are ill-defined and being set to 0.0 in labels with no predicted samples. Use `zero_division` parameter to control this behavior.\n",
      "  _warn_prf(average, modifier, msg_start, len(result))\n"
     ]
    },
    {
     "data": {
      "image/png": "[encoded data removed]",
      "text/plain": [
       "<Figure size 432x288 with 1 Axes>"
      ]
     },
     "metadata": {
      "needs_background": "light"
     },
     "output_type": "display_data"
    },
    {
     "name": "stdout",
     "output_type": "stream",
     "text": [
      "training model ...\n",
      "Train set min loss: 0.40534770488739014\n",
      "Val set min loss: 0.40091609954833984\n",
      "[[21874     0]\n",
      " [ 3494     0]]\n",
      "              precision    recall  f1-score   support\n",
      "\n",
      "         0.0      0.862     1.000     0.926     21874\n",
      "         1.0      0.000     0.000     0.000      3494\n",
      "\n",
      "    accuracy                          0.862     25368\n",
      "   macro avg      0.431     0.500     0.463     25368\n",
      "weighted avg      0.744     0.862     0.798     25368\n",
      "\n"
     ]
    },
    {
     "name": "stderr",
     "output_type": "stream",
     "text": [
      "/Users/suenchihang/opt/anaconda3/envs/rosetta_rl/lib/python3.9/site-packages/sklearn/metrics/_classification.py:1308: UndefinedMetricWarning: Precision and F-score are ill-defined and being set to 0.0 in labels with no predicted samples. Use `zero_division` parameter to control this behavior.\n",
      "  _warn_prf(average, modifier, msg_start, len(result))\n",
      "/Users/suenchihang/opt/anaconda3/envs/rosetta_rl/lib/python3.9/site-packages/sklearn/metrics/_classification.py:1308: UndefinedMetricWarning: Precision and F-score are ill-defined and being set to 0.0 in labels with no predicted samples. Use `zero_division` parameter to control this behavior.\n",
      "  _warn_prf(average, modifier, msg_start, len(result))\n",
      "/Users/suenchihang/opt/anaconda3/envs/rosetta_rl/lib/python3.9/site-packages/sklearn/metrics/_classification.py:1308: UndefinedMetricWarning: Precision and F-score are ill-defined and being set to 0.0 in labels with no predicted samples. Use `zero_division` parameter to control this behavior.\n",
      "  _warn_prf(average, modifier, msg_start, len(result))\n"
     ]
    },
    {
     "data": {
      "image/png": "[encoded data removed]",
      "text/plain": [
       "<Figure size 432x288 with 1 Axes>"
      ]
     },
     "metadata": {
      "needs_background": "light"
     },
     "output_type": "display_data"
    },
    {
     "name": "stdout",
     "output_type": "stream",
     "text": [
      "training model ...\n",
      "Train set min loss: 0.32766979932785034\n",
      "Val set min loss: 0.3157968521118164\n",
      "[[21689   185]\n",
      " [ 3215   279]]\n",
      "              precision    recall  f1-score   support\n",
      "\n",
      "         0.0      0.871     0.992     0.927     21874\n",
      "         1.0      0.601     0.080     0.141      3494\n",
      "\n",
      "    accuracy                          0.866     25368\n",
      "   macro avg      0.736     0.536     0.534     25368\n",
      "weighted avg      0.834     0.866     0.819     25368\n",
      "\n"
     ]
    },
    {
     "data": {
      "image/png": "[encoded data removed]",
      "text/plain": [
       "<Figure size 432x288 with 1 Axes>"
      ]
     },
     "metadata": {
      "needs_background": "light"
     },
     "output_type": "display_data"
    },
    {
     "name": "stdout",
     "output_type": "stream",
     "text": [
      "training model ...\n",
      "Train set min loss: 0.32100793719291687\n",
      "Val set min loss: 0.31295791268348694\n",
      "[[21702   172]\n",
      " [ 3240   254]]\n",
      "              precision    recall  f1-score   support\n",
      "\n",
      "         0.0      0.870     0.992     0.927     21874\n",
      "         1.0      0.596     0.073     0.130      3494\n",
      "\n",
      "    accuracy                          0.865     25368\n",
      "   macro avg      0.733     0.532     0.528     25368\n",
      "weighted avg      0.832     0.865     0.817     25368\n",
      "\n"
     ]
    },
    {
     "data": {
      "image/png": "[encoded data removed]",
      "text/plain": [
       "<Figure size 432x288 with 1 Axes>"
      ]
     },
     "metadata": {
      "needs_background": "light"
     },
     "output_type": "display_data"
    },
    {
     "name": "stdout",
     "output_type": "stream",
     "text": [
      "training model ...\n",
      "Train set min loss: 0.32210850715637207\n",
      "Val set min loss: 0.31543150544166565\n",
      "[[21585   289]\n",
      " [ 3111   383]]\n",
      "              precision    recall  f1-score   support\n",
      "\n",
      "         0.0      0.874     0.987     0.927     21874\n",
      "         1.0      0.570     0.110     0.184      3494\n",
      "\n",
      "    accuracy                          0.866     25368\n",
      "   macro avg      0.722     0.548     0.555     25368\n",
      "weighted avg      0.832     0.866     0.825     25368\n",
      "\n"
     ]
    },
    {
     "data": {
      "image/png": "[encoded data removed]",
      "text/plain": [
       "<Figure size 432x288 with 1 Axes>"
      ]
     },
     "metadata": {
      "needs_background": "light"
     },
     "output_type": "display_data"
    },
    {
     "name": "stdout",
     "output_type": "stream",
     "text": [
      "training model ...\n",
      "Train set min loss: 0.3302277624607086\n",
      "Val set min loss: 0.3253328502178192\n",
      "[[21431   443]\n",
      " [ 3012   482]]\n",
      "              precision    recall  f1-score   support\n",
      "\n",
      "         0.0      0.877     0.980     0.925     21874\n",
      "         1.0      0.521     0.138     0.218      3494\n",
      "\n",
      "    accuracy                          0.864     25368\n",
      "   macro avg      0.699     0.559     0.572     25368\n",
      "weighted avg      0.828     0.864     0.828     25368\n",
      "\n"
     ]
    },
    {
     "data": {
      "image/png": "[encoded data removed]",
      "text/plain": [
       "<Figure size 432x288 with 1 Axes>"
      ]
     },
     "metadata": {
      "needs_background": "light"
     },
     "output_type": "display_data"
    },
    {
     "name": "stdout",
     "output_type": "stream",
     "text": [
      "training model ...\n",
      "Train set min loss: 0.3643019199371338\n",
      "Val set min loss: 0.3601396679878235\n",
      "[[21736   138]\n",
      " [ 3373   121]]\n",
      "              precision    recall  f1-score   support\n",
      "\n",
      "         0.0      0.866     0.994     0.925     21874\n",
      "         1.0      0.467     0.035     0.064      3494\n",
      "\n",
      "    accuracy                          0.862     25368\n",
      "   macro avg      0.666     0.514     0.495     25368\n",
      "weighted avg      0.811     0.862     0.807     25368\n",
      "\n"
     ]
    },
    {
     "data": {
      "image/png": "[encoded data removed]",
      "text/plain": [
       "<Figure size 432x288 with 1 Axes>"
      ]
     },
     "metadata": {
      "needs_background": "light"
     },
     "output_type": "display_data"
    }
   ],
   "source": [
    "tf.config.run_functions_eagerly(False)\n",
    "Models={}\n",
    "Models['learning_rate'] = {}\n",
    "\n",
    "learning_rates = [0.1,0.01,0.001,0.0001,0.00001,0.000001,0.0000001]\n",
    "\n",
    "for lr in learning_rates:\n",
    "    NN = Sequential()\n",
    "    NN.add(Dense(21,input_dim = X_train.shape[1], activation='relu'))\n",
    "    NN.add(Dense(100,activation='relu'))\n",
    "    NN.add(Dense(50, activation='relu'))\n",
    "    opt = RMSprop(learning_rate= lr, momentum=0.9)    \n",
    "    NN.add(Dense(1, activation='sigmoid'))\n",
    "    NN.compile(loss =tf.keras.losses.BinaryCrossentropy(), optimizer=opt, metrics='accuracy')\n",
    "\n",
    "    Models['learning_rate'][lr]= NN\n",
    "    tf.keras.backend.clear_session()\n",
    "    del NN\n",
    "\n",
    "counter = 0\n",
    "for i, model_NN in Models['learning_rate'].items():\n",
    "    print('training model ...')\n",
    "    history = model_NN.fit(x = X_train, y = y_train, epochs=10, verbose = 0, validation_data=(X_test, y_test))\n",
    "    print('Train set min loss: {}'.format(min(history.history['loss'])))\n",
    "    print('Val set min loss: {}'.format(min(history.history['val_loss'])))\n",
    "    y_pred_NN = 1*(model_NN.predict(X_test) > 0.5)\n",
    "    # Print the confusion matrix\n",
    "    print(metrics.confusion_matrix(y_test, y_pred_NN))\n",
    "    # Print the precision and recall, among other metrics\n",
    "    print(metrics.classification_report(y_test, y_pred_NN, digits=3))\n",
    "    plt.figure()\n",
    "    plt.title('learning rate: {}'.format(learning_rates[counter]))\n",
    "    plt.plot(history.history['loss'], label = 'Train_loss')\n",
    "    plt.plot(history.history['val_loss'], label = 'Val_loss')\n",
    "    plt.plot(history.history['accuracy'], label = 'Train_acc')\n",
    "    plt.plot(history.history['val_accuracy'], label = 'Val_acc')\n",
    "    plt.xlabel(\"epochs\")\n",
    "    plt.legend()\n",
    "    plt.show()\n",
    "    counter += 1\n",
    "    "
   ]
  },
  {
   "cell_type": "code",
   "execution_count": 31,
   "id": "a622dadc-d1ed-40eb-8d52-5d5cdccf297a",
   "metadata": {},
   "outputs": [
    {
     "name": "stdout",
     "output_type": "stream",
     "text": [
      "lr:  0.1 ;   ROC_AUC:  0.5\n",
      "lr:  0.01 ;   ROC_AUC:  0.5\n",
      "lr:  0.001 ;   ROC_AUC:  0.8229449782615624\n",
      "lr:  0.0001 ;   ROC_AUC:  0.8268812183887748\n",
      "lr:  1e-05 ;   ROC_AUC:  0.8244797217387883\n",
      "lr:  1e-06 ;   ROC_AUC:  0.8072812840403163\n",
      "lr:  1e-07 ;   ROC_AUC:  0.7316539098701261\n"
     ]
    }
   ],
   "source": [
    "#print ROC_AUC \n",
    "for i, model_NN in Models['learning_rate'].items():\n",
    "    print('lr: ',i, ';   ROC_AUC: ', roc_auc_score(y_test, model_NN.predict(X_test)))"
   ]
  },
  {
   "cell_type": "markdown",
   "id": "d3f1329e-8721-4ccf-b207-f1c326667545",
   "metadata": {},
   "source": [
    "## SMOTEEN\n",
    "\n",
    "Over-sampling and down-sampling"
   ]
  },
  {
   "cell_type": "code",
   "execution_count": 32,
   "id": "c6087b7f-850b-484f-ad65-80f092ae1eba",
   "metadata": {},
   "outputs": [],
   "source": [
    "import imblearn\n",
    "from imblearn.pipeline import Pipeline\n",
    "from imblearn.combine import SMOTEENN\n",
    "from imblearn.under_sampling import EditedNearestNeighbours"
   ]
  },
  {
   "cell_type": "code",
   "execution_count": 33,
   "id": "01d5a246-29b4-44ec-b3a2-ad218cb4a564",
   "metadata": {},
   "outputs": [],
   "source": [
    "from collections import Counter"
   ]
  },
  {
   "cell_type": "code",
   "execution_count": 34,
   "id": "f278edea-d096-427c-bb93-ede8fe9483ee",
   "metadata": {},
   "outputs": [],
   "source": [
    "smote_enn = SMOTEENN(random_state=0)\n",
    "X_train_resampled, y_train_resampled = smote_enn.fit_resample(X_train, y_train)"
   ]
  },
  {
   "cell_type": "markdown",
   "id": "3dd5e769-9071-431c-8c9f-5c8b548d592d",
   "metadata": {},
   "source": [
    "#### Random Forest"
   ]
  },
  {
   "cell_type": "code",
   "execution_count": 35,
   "id": "e25d1e4f-cecc-4e68-a64f-5d96ab735725",
   "metadata": {},
   "outputs": [
    {
     "name": "stdout",
     "output_type": "stream",
     "text": [
      "[[17320  4554]\n",
      " [ 1154  2340]]\n",
      "              precision    recall  f1-score   support\n",
      "\n",
      "         0.0      0.938     0.792     0.859     21874\n",
      "         1.0      0.339     0.670     0.451      3494\n",
      "\n",
      "    accuracy                          0.775     25368\n",
      "   macro avg      0.638     0.731     0.655     25368\n",
      "weighted avg      0.855     0.775     0.802     25368\n",
      "\n"
     ]
    }
   ],
   "source": [
    "rf_model_resampled = RandomForestClassifier(n_estimators=200, max_features='auto', max_samples=0.9, random_state=42)\n",
    "rf_model_resampled.fit(X_train_resampled, y_train_resampled)\n",
    "predictions_resampled = rf_model_resampled.predict(X_test)\n",
    "\n",
    "# Print the confusion matrix\n",
    "print(metrics.confusion_matrix(y_test, predictions_resampled))\n",
    "\n",
    "# Print the precision and recall, among other metrics\n",
    "print(metrics.classification_report(y_test, predictions_resampled, digits=3))"
   ]
  },
  {
   "cell_type": "code",
   "execution_count": 36,
   "id": "0ad95194-1f93-44b0-90b6-b370313540bc",
   "metadata": {},
   "outputs": [
    {
     "data": {
      "text/plain": [
       "array([0.19393393, 0.09996581, 0.0031807 , 0.10469931, 0.02209565,\n",
       "       0.0050732 , 0.02113385, 0.02480829, 0.01846088, 0.01242322,\n",
       "       0.00751141, 0.00376122, 0.00547745, 0.18446586, 0.01897704,\n",
       "       0.02555631, 0.04614202, 0.02410734, 0.09227919, 0.03323697,\n",
       "       0.05271035])"
      ]
     },
     "execution_count": 36,
     "metadata": {},
     "output_type": "execute_result"
    }
   ],
   "source": [
    "rf_model_resampled.feature_importances_"
   ]
  },
  {
   "cell_type": "code",
   "execution_count": 37,
   "id": "8c0c59b7-1403-474c-a512-3241ba1f8bcd",
   "metadata": {},
   "outputs": [
    {
     "name": "stdout",
     "output_type": "stream",
     "text": [
      "ROC_AUC:  0.8167692834001301\n"
     ]
    }
   ],
   "source": [
    "#print ROC_AUC\n",
    "print('ROC_AUC: ', roc_auc_score(y_test, rf_model_resampled.predict_proba(X_test)[:,1]))"
   ]
  },
  {
   "cell_type": "markdown",
   "id": "1d5c7995-637c-403a-914f-121d048080a0",
   "metadata": {},
   "source": [
    "#### Gradient Boosting"
   ]
  },
  {
   "cell_type": "code",
   "execution_count": 38,
   "id": "bda20c28-b3b0-4634-bbe2-918e51f53d4d",
   "metadata": {},
   "outputs": [
    {
     "name": "stdout",
     "output_type": "stream",
     "text": [
      "[[16240  5634]\n",
      " [  832  2662]]\n",
      "              precision    recall  f1-score   support\n",
      "\n",
      "         0.0      0.951     0.742     0.834     21874\n",
      "         1.0      0.321     0.762     0.452      3494\n",
      "\n",
      "    accuracy                          0.745     25368\n",
      "   macro avg      0.636     0.752     0.643     25368\n",
      "weighted avg      0.864     0.745     0.781     25368\n",
      "\n"
     ]
    }
   ],
   "source": [
    "gb_model_resampled = GradientBoostingClassifier()\n",
    "gb_model_resampled.fit(X_train_resampled, y_train_resampled)\n",
    "y_pred_resampled = gb_model_resampled.predict(X_test)\n",
    "\n",
    "# Print the confusion matrix\n",
    "print(metrics.confusion_matrix(y_test, y_pred_resampled))\n",
    "\n",
    "# Print the precision and recall, among other metrics\n",
    "print(metrics.classification_report(y_test, y_pred_resampled, digits=3))"
   ]
  },
  {
   "cell_type": "code",
   "execution_count": 39,
   "id": "583f1323-342c-484e-83c1-8ecb4add709b",
   "metadata": {},
   "outputs": [
    {
     "data": {
      "text/plain": [
       "array([4.93559745e-01, 8.19685008e-02, 1.54801576e-03, 5.15344169e-02,\n",
       "       7.60635624e-03, 1.70647919e-04, 1.04221525e-02, 6.02455934e-03,\n",
       "       6.18341189e-03, 2.62667965e-03, 6.64106381e-03, 7.31529633e-04,\n",
       "       7.55052381e-04, 2.18567291e-01, 1.94249073e-03, 1.17788523e-05,\n",
       "       1.29144631e-02, 1.81322977e-02, 5.96429267e-02, 8.98713504e-03,\n",
       "       1.00294850e-02])"
      ]
     },
     "execution_count": 39,
     "metadata": {},
     "output_type": "execute_result"
    }
   ],
   "source": [
    "gb_model_resampled.feature_importances_"
   ]
  },
  {
   "cell_type": "code",
   "execution_count": 40,
   "id": "75da188e-c15f-40a9-b0ff-0a8c3108789b",
   "metadata": {},
   "outputs": [
    {
     "name": "stdout",
     "output_type": "stream",
     "text": [
      "ROC_AUC:  0.8299442613492407\n"
     ]
    }
   ],
   "source": [
    "#print ROC_AUC\n",
    "print('ROC_AUC: ', roc_auc_score(y_test, gb_model_resampled.predict_proba(X_test)[:,1]))"
   ]
  },
  {
   "cell_type": "markdown",
   "id": "5f5b4b6e-a183-40ca-b66a-26f5ee37b4ab",
   "metadata": {},
   "source": [
    "#### Neural Network"
   ]
  },
  {
   "cell_type": "code",
   "execution_count": 41,
   "id": "6954b124-52a8-4464-983f-bc736ad16b30",
   "metadata": {},
   "outputs": [
    {
     "name": "stdout",
     "output_type": "stream",
     "text": [
      "training model ...\n",
      "Train set min loss: 0.4153006374835968\n",
      "Val set min loss: 0.40157026052474976\n",
      "[[21874     0]\n",
      " [ 3494     0]]\n",
      "              precision    recall  f1-score   support\n",
      "\n",
      "         0.0      0.862     1.000     0.926     21874\n",
      "         1.0      0.000     0.000     0.000      3494\n",
      "\n",
      "    accuracy                          0.862     25368\n",
      "   macro avg      0.431     0.500     0.463     25368\n",
      "weighted avg      0.744     0.862     0.798     25368\n",
      "\n"
     ]
    },
    {
     "name": "stderr",
     "output_type": "stream",
     "text": [
      "/Users/suenchihang/opt/anaconda3/envs/rosetta_rl/lib/python3.9/site-packages/sklearn/metrics/_classification.py:1308: UndefinedMetricWarning: Precision and F-score are ill-defined and being set to 0.0 in labels with no predicted samples. Use `zero_division` parameter to control this behavior.\n",
      "  _warn_prf(average, modifier, msg_start, len(result))\n",
      "/Users/suenchihang/opt/anaconda3/envs/rosetta_rl/lib/python3.9/site-packages/sklearn/metrics/_classification.py:1308: UndefinedMetricWarning: Precision and F-score are ill-defined and being set to 0.0 in labels with no predicted samples. Use `zero_division` parameter to control this behavior.\n",
      "  _warn_prf(average, modifier, msg_start, len(result))\n",
      "/Users/suenchihang/opt/anaconda3/envs/rosetta_rl/lib/python3.9/site-packages/sklearn/metrics/_classification.py:1308: UndefinedMetricWarning: Precision and F-score are ill-defined and being set to 0.0 in labels with no predicted samples. Use `zero_division` parameter to control this behavior.\n",
      "  _warn_prf(average, modifier, msg_start, len(result))\n"
     ]
    },
    {
     "data": {
      "image/png": "[encoded data removed]",
      "text/plain": [
       "<Figure size 432x288 with 1 Axes>"
      ]
     },
     "metadata": {
      "needs_background": "light"
     },
     "output_type": "display_data"
    },
    {
     "name": "stdout",
     "output_type": "stream",
     "text": [
      "training model ...\n",
      "Train set min loss: 0.4053903818130493\n",
      "Val set min loss: 0.4008369743824005\n",
      "[[21874     0]\n",
      " [ 3494     0]]\n",
      "              precision    recall  f1-score   support\n",
      "\n",
      "         0.0      0.862     1.000     0.926     21874\n",
      "         1.0      0.000     0.000     0.000      3494\n",
      "\n",
      "    accuracy                          0.862     25368\n",
      "   macro avg      0.431     0.500     0.463     25368\n",
      "weighted avg      0.744     0.862     0.798     25368\n",
      "\n"
     ]
    },
    {
     "name": "stderr",
     "output_type": "stream",
     "text": [
      "/Users/suenchihang/opt/anaconda3/envs/rosetta_rl/lib/python3.9/site-packages/sklearn/metrics/_classification.py:1308: UndefinedMetricWarning: Precision and F-score are ill-defined and being set to 0.0 in labels with no predicted samples. Use `zero_division` parameter to control this behavior.\n",
      "  _warn_prf(average, modifier, msg_start, len(result))\n",
      "/Users/suenchihang/opt/anaconda3/envs/rosetta_rl/lib/python3.9/site-packages/sklearn/metrics/_classification.py:1308: UndefinedMetricWarning: Precision and F-score are ill-defined and being set to 0.0 in labels with no predicted samples. Use `zero_division` parameter to control this behavior.\n",
      "  _warn_prf(average, modifier, msg_start, len(result))\n",
      "/Users/suenchihang/opt/anaconda3/envs/rosetta_rl/lib/python3.9/site-packages/sklearn/metrics/_classification.py:1308: UndefinedMetricWarning: Precision and F-score are ill-defined and being set to 0.0 in labels with no predicted samples. Use `zero_division` parameter to control this behavior.\n",
      "  _warn_prf(average, modifier, msg_start, len(result))\n"
     ]
    },
    {
     "data": {
      "image/png": "[encoded data removed]",
      "text/plain": [
       "<Figure size 432x288 with 1 Axes>"
      ]
     },
     "metadata": {
      "needs_background": "light"
     },
     "output_type": "display_data"
    },
    {
     "name": "stdout",
     "output_type": "stream",
     "text": [
      "training model ...\n",
      "Train set min loss: 0.3278539180755615\n",
      "Val set min loss: 0.3148258328437805\n",
      "[[21874     0]\n",
      " [ 3494     0]]\n",
      "              precision    recall  f1-score   support\n",
      "\n",
      "         0.0      0.862     1.000     0.926     21874\n",
      "         1.0      0.000     0.000     0.000      3494\n",
      "\n",
      "    accuracy                          0.862     25368\n",
      "   macro avg      0.431     0.500     0.463     25368\n",
      "weighted avg      0.744     0.862     0.798     25368\n",
      "\n"
     ]
    },
    {
     "name": "stderr",
     "output_type": "stream",
     "text": [
      "/Users/suenchihang/opt/anaconda3/envs/rosetta_rl/lib/python3.9/site-packages/sklearn/metrics/_classification.py:1308: UndefinedMetricWarning: Precision and F-score are ill-defined and being set to 0.0 in labels with no predicted samples. Use `zero_division` parameter to control this behavior.\n",
      "  _warn_prf(average, modifier, msg_start, len(result))\n",
      "/Users/suenchihang/opt/anaconda3/envs/rosetta_rl/lib/python3.9/site-packages/sklearn/metrics/_classification.py:1308: UndefinedMetricWarning: Precision and F-score are ill-defined and being set to 0.0 in labels with no predicted samples. Use `zero_division` parameter to control this behavior.\n",
      "  _warn_prf(average, modifier, msg_start, len(result))\n",
      "/Users/suenchihang/opt/anaconda3/envs/rosetta_rl/lib/python3.9/site-packages/sklearn/metrics/_classification.py:1308: UndefinedMetricWarning: Precision and F-score are ill-defined and being set to 0.0 in labels with no predicted samples. Use `zero_division` parameter to control this behavior.\n",
      "  _warn_prf(average, modifier, msg_start, len(result))\n"
     ]
    },
    {
     "data": {
      "image/png": "[encoded data removed]",
      "text/plain": [
       "<Figure size 432x288 with 1 Axes>"
      ]
     },
     "metadata": {
      "needs_background": "light"
     },
     "output_type": "display_data"
    },
    {
     "name": "stdout",
     "output_type": "stream",
     "text": [
      "training model ...\n",
      "Train set min loss: 0.3215339183807373\n",
      "Val set min loss: 0.3145393133163452\n",
      "[[21855    19]\n",
      " [ 3464    30]]\n",
      "              precision    recall  f1-score   support\n",
      "\n",
      "         0.0      0.863     0.999     0.926     21874\n",
      "         1.0      0.612     0.009     0.017      3494\n",
      "\n",
      "    accuracy                          0.863     25368\n",
      "   macro avg      0.738     0.504     0.472     25368\n",
      "weighted avg      0.829     0.863     0.801     25368\n",
      "\n"
     ]
    },
    {
     "data": {
      "image/png": "[encoded data removed]",
      "text/plain": [
       "<Figure size 432x288 with 1 Axes>"
      ]
     },
     "metadata": {
      "needs_background": "light"
     },
     "output_type": "display_data"
    },
    {
     "name": "stdout",
     "output_type": "stream",
     "text": [
      "training model ...\n",
      "Train set min loss: 0.32213741540908813\n",
      "Val set min loss: 0.3163389265537262\n",
      "[[21509   365]\n",
      " [ 3018   476]]\n",
      "              precision    recall  f1-score   support\n",
      "\n",
      "         0.0      0.877     0.983     0.927     21874\n",
      "         1.0      0.566     0.136     0.220      3494\n",
      "\n",
      "    accuracy                          0.867     25368\n",
      "   macro avg      0.721     0.560     0.573     25368\n",
      "weighted avg      0.834     0.867     0.830     25368\n",
      "\n"
     ]
    },
    {
     "data": {
      "image/png": "[encoded data removed]",
      "text/plain": [
       "<Figure size 432x288 with 1 Axes>"
      ]
     },
     "metadata": {
      "needs_background": "light"
     },
     "output_type": "display_data"
    },
    {
     "name": "stdout",
     "output_type": "stream",
     "text": [
      "training model ...\n",
      "Train set min loss: 0.3307393491268158\n",
      "Val set min loss: 0.3263065218925476\n",
      "[[21579   295]\n",
      " [ 3197   297]]\n",
      "              precision    recall  f1-score   support\n",
      "\n",
      "         0.0      0.871     0.987     0.925     21874\n",
      "         1.0      0.502     0.085     0.145      3494\n",
      "\n",
      "    accuracy                          0.862     25368\n",
      "   macro avg      0.686     0.536     0.535     25368\n",
      "weighted avg      0.820     0.862     0.818     25368\n",
      "\n"
     ]
    },
    {
     "data": {
      "image/png": "[encoded data removed]",
      "text/plain": [
       "<Figure size 432x288 with 1 Axes>"
      ]
     },
     "metadata": {
      "needs_background": "light"
     },
     "output_type": "display_data"
    },
    {
     "name": "stdout",
     "output_type": "stream",
     "text": [
      "training model ...\n",
      "Train set min loss: 0.3717561662197113\n",
      "Val set min loss: 0.3681544363498688\n",
      "[[21834    40]\n",
      " [ 3451    43]]\n",
      "              precision    recall  f1-score   support\n",
      "\n",
      "         0.0      0.864     0.998     0.926     21874\n",
      "         1.0      0.518     0.012     0.024      3494\n",
      "\n",
      "    accuracy                          0.862     25368\n",
      "   macro avg      0.691     0.505     0.475     25368\n",
      "weighted avg      0.816     0.862     0.802     25368\n",
      "\n"
     ]
    },
    {
     "data": {
      "image/png": "[encoded data removed]",
      "text/plain": [
       "<Figure size 432x288 with 1 Axes>"
      ]
     },
     "metadata": {
      "needs_background": "light"
     },
     "output_type": "display_data"
    }
   ],
   "source": [
    "tf.config.run_functions_eagerly(False)\n",
    "\n",
    "Models_resampled={}\n",
    "Models_resampled['learning_rate'] = {}\n",
    "\n",
    "learning_rates = [0.1,0.01,0.001,0.0001,0.00001,0.000001,0.0000001]\n",
    "\n",
    "for lr in learning_rates:\n",
    "    NN = Sequential()\n",
    "    NN.add(Dense(21,input_dim = X_train.shape[1], activation='relu'))\n",
    "    NN.add(Dense(100,activation='relu'))\n",
    "    NN.add(Dense(50, activation='relu'))\n",
    "    opt = RMSprop(learning_rate= lr, momentum=0.9)    \n",
    "    NN.add(Dense(1, activation='sigmoid'))\n",
    "    NN.compile(loss =tf.keras.losses.BinaryCrossentropy(), optimizer=opt, metrics='accuracy')\n",
    "    \n",
    "    Models_resampled['learning_rate'][lr]= NN\n",
    "    tf.keras.backend.clear_session()\n",
    "    del NN\n",
    "\n",
    "counter = 0\n",
    "for i, model_NN in Models_resampled['learning_rate'].items():\n",
    "    print('training model ...')\n",
    "    history = model_NN.fit(x = X_train, y = y_train, epochs=10, verbose = 0, validation_data=(X_test, y_test))\n",
    "    print('Train set min loss: {}'.format(min(history.history['loss'])))\n",
    "    print('Val set min loss: {}'.format(min(history.history['val_loss'])))\n",
    "    y_pred_NN = 1*(model_NN.predict(X_test)>0.5)\n",
    "    # Print the confusion matrix\n",
    "    print(metrics.confusion_matrix(y_test, y_pred_NN))\n",
    "    # Print the precision and recall, among other metrics\n",
    "    print(metrics.classification_report(y_test, y_pred_NN, digits=3))\n",
    "    plt.figure()\n",
    "    plt.title('learning rate: {}'.format(learning_rates[counter]))\n",
    "    plt.plot(history.history['loss'], label = 'Train_loss')\n",
    "    plt.plot(history.history['val_loss'], label = 'Val_loss')\n",
    "    plt.plot(history.history['accuracy'], label = 'Train_acc')\n",
    "    plt.plot(history.history['val_accuracy'], label = 'Val_acc')\n",
    "    plt.xlabel(\"epochs\")\n",
    "    plt.legend()\n",
    "    plt.show()\n",
    "    counter += 1"
   ]
  },
  {
   "cell_type": "code",
   "execution_count": 42,
   "id": "94e197da-d115-4973-bdd5-4143489e83bc",
   "metadata": {},
   "outputs": [
    {
     "name": "stdout",
     "output_type": "stream",
     "text": [
      "lr:  0.1 ;   ROC_AUC:  0.5\n",
      "lr:  0.01 ;   ROC_AUC:  0.5\n",
      "lr:  0.001 ;   ROC_AUC:  0.8255045065041553\n",
      "lr:  0.0001 ;   ROC_AUC:  0.8248330684993551\n",
      "lr:  1e-05 ;   ROC_AUC:  0.823833621387497\n",
      "lr:  1e-06 ;   ROC_AUC:  0.8044082178730984\n",
      "lr:  1e-07 ;   ROC_AUC:  0.7083327554455479\n"
     ]
    }
   ],
   "source": [
    "#print ROC_AUC\n",
    "for i, model_NN in Models_resampled['learning_rate'].items():\n",
    "    print('lr: ',i, ';   ROC_AUC: ', roc_auc_score(y_test, model_NN.predict(X_test)))"
   ]
  },
  {
   "cell_type": "markdown",
   "id": "743d9c3f-ae59-4256-9607-482792e7428e",
   "metadata": {},
   "source": [
    "## Random Over-sampling"
   ]
  },
  {
   "cell_type": "code",
   "execution_count": 43,
   "id": "4f89fd82-87cc-4563-9f3d-3d148d42fdc1",
   "metadata": {},
   "outputs": [],
   "source": [
    "from imblearn.over_sampling import RandomOverSampler\n",
    "ros = RandomOverSampler(random_state=0)\n",
    "X_train_ros, y_train_ros = ros.fit_resample(X_train, y_train)"
   ]
  },
  {
   "cell_type": "markdown",
   "id": "5393ee47-bc56-4e06-8459-ae7d3317a8de",
   "metadata": {},
   "source": [
    "#### Random Forest"
   ]
  },
  {
   "cell_type": "code",
   "execution_count": 44,
   "id": "da89a570-881e-488b-86b8-eb171a7ceae2",
   "metadata": {},
   "outputs": [
    {
     "name": "stdout",
     "output_type": "stream",
     "text": [
      "[[20098  1776]\n",
      " [ 2296  1198]]\n",
      "              precision    recall  f1-score   support\n",
      "\n",
      "         0.0      0.897     0.919     0.908     21874\n",
      "         1.0      0.403     0.343     0.370      3494\n",
      "\n",
      "    accuracy                          0.839     25368\n",
      "   macro avg      0.650     0.631     0.639     25368\n",
      "weighted avg      0.829     0.839     0.834     25368\n",
      "\n"
     ]
    }
   ],
   "source": [
    "rf_model_ros = RandomForestClassifier(n_estimators=200, max_features='auto', max_samples=0.9, random_state=42)\n",
    "rf_model_ros.fit(X_train_ros, y_train_ros)\n",
    "predictions_ros = rf_model_ros.predict(X_test)\n",
    "\n",
    "# Print the confusion matrix\n",
    "print(metrics.confusion_matrix(y_test, predictions_ros))\n",
    "\n",
    "# Print the precision and recall, among other metrics\n",
    "print(metrics.classification_report(y_test, predictions_ros, digits=3))"
   ]
  },
  {
   "cell_type": "code",
   "execution_count": 45,
   "id": "99e5dbe6-3579-4d69-be68-c48f8c8a1b77",
   "metadata": {},
   "outputs": [
    {
     "data": {
      "text/plain": [
       "array([0.07839135, 0.03791626, 0.00581284, 0.17355379, 0.02841607,\n",
       "       0.00984595, 0.01707684, 0.02246918, 0.02811712, 0.02168514,\n",
       "       0.00872894, 0.00740558, 0.01216042, 0.10157482, 0.05464841,\n",
       "       0.07085655, 0.02547108, 0.02452179, 0.12766517, 0.05829811,\n",
       "       0.08538458])"
      ]
     },
     "execution_count": 45,
     "metadata": {},
     "output_type": "execute_result"
    }
   ],
   "source": [
    "rf_model_ros.feature_importances_"
   ]
  },
  {
   "cell_type": "code",
   "execution_count": 46,
   "id": "19feb10e-1a97-4be8-9b64-2a9124b66e1b",
   "metadata": {},
   "outputs": [
    {
     "name": "stdout",
     "output_type": "stream",
     "text": [
      "ROC_AUC:  0.7999931530110606\n"
     ]
    }
   ],
   "source": [
    "#print ROC_AUC\n",
    "print('ROC_AUC: ', roc_auc_score(y_test, rf_model_ros.predict_proba(X_test)[:,1]))"
   ]
  },
  {
   "cell_type": "markdown",
   "id": "a0f8672b-26da-43a2-a374-d43a135bb4ed",
   "metadata": {},
   "source": [
    "#### Gradient Boosting"
   ]
  },
  {
   "cell_type": "code",
   "execution_count": 47,
   "id": "7b3536d6-52ac-4e33-8723-d69ef49e49b6",
   "metadata": {},
   "outputs": [
    {
     "name": "stdout",
     "output_type": "stream",
     "text": [
      "[[15519  6355]\n",
      " [  680  2814]]\n",
      "              precision    recall  f1-score   support\n",
      "\n",
      "         0.0      0.958     0.709     0.815     21874\n",
      "         1.0      0.307     0.805     0.444      3494\n",
      "\n",
      "    accuracy                          0.723     25368\n",
      "   macro avg      0.632     0.757     0.630     25368\n",
      "weighted avg      0.868     0.723     0.764     25368\n",
      "\n"
     ]
    }
   ],
   "source": [
    "gb_model_ros = GradientBoostingClassifier()\n",
    "gb_model_ros.fit(X_train_ros, y_train_ros)\n",
    "y_pred_ros = gb_model_ros.predict(X_test)\n",
    "\n",
    "# Print the confusion matrix\n",
    "print(metrics.confusion_matrix(y_test, y_pred_ros))\n",
    "\n",
    "# Print the precision and recall, among other metrics\n",
    "print(metrics.classification_report(y_test, y_pred_ros, digits=3))"
   ]
  },
  {
   "cell_type": "code",
   "execution_count": 48,
   "id": "466e1d89-9c44-4344-ab16-9ab27835892c",
   "metadata": {},
   "outputs": [
    {
     "data": {
      "text/plain": [
       "array([3.47652868e-01, 6.54570866e-02, 9.12546097e-03, 1.23670647e-01,\n",
       "       1.78274435e-04, 1.35598941e-03, 1.45969026e-02, 3.77053305e-04,\n",
       "       3.28883089e-04, 1.46065313e-04, 9.33048325e-03, 2.04154738e-04,\n",
       "       1.51730672e-04, 2.83642453e-01, 1.30599597e-03, 9.39083135e-04,\n",
       "       1.37728222e-02, 7.59577310e-03, 1.06297244e-01, 1.87520967e-03,\n",
       "       1.19958201e-02])"
      ]
     },
     "execution_count": 48,
     "metadata": {},
     "output_type": "execute_result"
    }
   ],
   "source": [
    "gb_model_ros.feature_importances_"
   ]
  },
  {
   "cell_type": "code",
   "execution_count": 49,
   "id": "2b8d1d6d-b057-4afd-8127-da226ce8947e",
   "metadata": {},
   "outputs": [
    {
     "name": "stdout",
     "output_type": "stream",
     "text": [
      "ROC_AUC:  0.8334702578471623\n"
     ]
    }
   ],
   "source": [
    "#print ROC_AUC\n",
    "print('ROC_AUC: ', roc_auc_score(y_test, gb_model_ros.predict_proba(X_test)[:,1]))"
   ]
  },
  {
   "cell_type": "markdown",
   "id": "e8503e5c-4633-4bd8-abfd-991d36126a95",
   "metadata": {},
   "source": [
    "#### Neural Network"
   ]
  },
  {
   "cell_type": "code",
   "execution_count": 50,
   "id": "7e724862-73e5-48b6-adb5-b23f5c26e8fb",
   "metadata": {},
   "outputs": [
    {
     "name": "stdout",
     "output_type": "stream",
     "text": [
      "training model ...\n",
      "Train set min loss: 0.4151153266429901\n",
      "Val set min loss: 0.4009455740451813\n",
      "[[21874     0]\n",
      " [ 3494     0]]\n",
      "              precision    recall  f1-score   support\n",
      "\n",
      "         0.0      0.862     1.000     0.926     21874\n",
      "         1.0      0.000     0.000     0.000      3494\n",
      "\n",
      "    accuracy                          0.862     25368\n",
      "   macro avg      0.431     0.500     0.463     25368\n",
      "weighted avg      0.744     0.862     0.798     25368\n",
      "\n"
     ]
    },
    {
     "name": "stderr",
     "output_type": "stream",
     "text": [
      "/Users/suenchihang/opt/anaconda3/envs/rosetta_rl/lib/python3.9/site-packages/sklearn/metrics/_classification.py:1308: UndefinedMetricWarning: Precision and F-score are ill-defined and being set to 0.0 in labels with no predicted samples. Use `zero_division` parameter to control this behavior.\n",
      "  _warn_prf(average, modifier, msg_start, len(result))\n",
      "/Users/suenchihang/opt/anaconda3/envs/rosetta_rl/lib/python3.9/site-packages/sklearn/metrics/_classification.py:1308: UndefinedMetricWarning: Precision and F-score are ill-defined and being set to 0.0 in labels with no predicted samples. Use `zero_division` parameter to control this behavior.\n",
      "  _warn_prf(average, modifier, msg_start, len(result))\n",
      "/Users/suenchihang/opt/anaconda3/envs/rosetta_rl/lib/python3.9/site-packages/sklearn/metrics/_classification.py:1308: UndefinedMetricWarning: Precision and F-score are ill-defined and being set to 0.0 in labels with no predicted samples. Use `zero_division` parameter to control this behavior.\n",
      "  _warn_prf(average, modifier, msg_start, len(result))\n"
     ]
    },
    {
     "data": {
      "image/png": "[encoded data removed]",
      "text/plain": [
       "<Figure size 432x288 with 1 Axes>"
      ]
     },
     "metadata": {
      "needs_background": "light"
     },
     "output_type": "display_data"
    },
    {
     "name": "stdout",
     "output_type": "stream",
     "text": [
      "training model ...\n",
      "Train set min loss: 0.4054153561592102\n",
      "Val set min loss: 0.4008266031742096\n",
      "[[21874     0]\n",
      " [ 3494     0]]\n",
      "              precision    recall  f1-score   support\n",
      "\n",
      "         0.0      0.862     1.000     0.926     21874\n",
      "         1.0      0.000     0.000     0.000      3494\n",
      "\n",
      "    accuracy                          0.862     25368\n",
      "   macro avg      0.431     0.500     0.463     25368\n",
      "weighted avg      0.744     0.862     0.798     25368\n",
      "\n"
     ]
    },
    {
     "name": "stderr",
     "output_type": "stream",
     "text": [
      "/Users/suenchihang/opt/anaconda3/envs/rosetta_rl/lib/python3.9/site-packages/sklearn/metrics/_classification.py:1308: UndefinedMetricWarning: Precision and F-score are ill-defined and being set to 0.0 in labels with no predicted samples. Use `zero_division` parameter to control this behavior.\n",
      "  _warn_prf(average, modifier, msg_start, len(result))\n",
      "/Users/suenchihang/opt/anaconda3/envs/rosetta_rl/lib/python3.9/site-packages/sklearn/metrics/_classification.py:1308: UndefinedMetricWarning: Precision and F-score are ill-defined and being set to 0.0 in labels with no predicted samples. Use `zero_division` parameter to control this behavior.\n",
      "  _warn_prf(average, modifier, msg_start, len(result))\n",
      "/Users/suenchihang/opt/anaconda3/envs/rosetta_rl/lib/python3.9/site-packages/sklearn/metrics/_classification.py:1308: UndefinedMetricWarning: Precision and F-score are ill-defined and being set to 0.0 in labels with no predicted samples. Use `zero_division` parameter to control this behavior.\n",
      "  _warn_prf(average, modifier, msg_start, len(result))\n"
     ]
    },
    {
     "data": {
      "image/png": "[encoded data removed]",
      "text/plain": [
       "<Figure size 432x288 with 1 Axes>"
      ]
     },
     "metadata": {
      "needs_background": "light"
     },
     "output_type": "display_data"
    },
    {
     "name": "stdout",
     "output_type": "stream",
     "text": [
      "training model ...\n",
      "Train set min loss: 0.3269948363304138\n",
      "Val set min loss: 0.31750163435935974\n",
      "[[20446  1428]\n",
      " [ 2270  1224]]\n",
      "              precision    recall  f1-score   support\n",
      "\n",
      "         0.0      0.900     0.935     0.917     21874\n",
      "         1.0      0.462     0.350     0.398      3494\n",
      "\n",
      "    accuracy                          0.854     25368\n",
      "   macro avg      0.681     0.643     0.658     25368\n",
      "weighted avg      0.840     0.854     0.846     25368\n",
      "\n"
     ]
    },
    {
     "data": {
      "image/png": "[encoded data removed]",
      "text/plain": [
       "<Figure size 432x288 with 1 Axes>"
      ]
     },
     "metadata": {
      "needs_background": "light"
     },
     "output_type": "display_data"
    },
    {
     "name": "stdout",
     "output_type": "stream",
     "text": [
      "training model ...\n",
      "Train set min loss: 0.3213143050670624\n",
      "Val set min loss: 0.3162379562854767\n",
      "[[21592   282]\n",
      " [ 3115   379]]\n",
      "              precision    recall  f1-score   support\n",
      "\n",
      "         0.0      0.874     0.987     0.927     21874\n",
      "         1.0      0.573     0.108     0.182      3494\n",
      "\n",
      "    accuracy                          0.866     25368\n",
      "   macro avg      0.724     0.548     0.555     25368\n",
      "weighted avg      0.833     0.866     0.825     25368\n",
      "\n"
     ]
    },
    {
     "data": {
      "image/png": "[encoded data removed]",
      "text/plain": [
       "<Figure size 432x288 with 1 Axes>"
      ]
     },
     "metadata": {
      "needs_background": "light"
     },
     "output_type": "display_data"
    },
    {
     "name": "stdout",
     "output_type": "stream",
     "text": [
      "training model ...\n",
      "Train set min loss: 0.3223300576210022\n",
      "Val set min loss: 0.31693071126937866\n",
      "[[21226   648]\n",
      " [ 2766   728]]\n",
      "              precision    recall  f1-score   support\n",
      "\n",
      "         0.0      0.885     0.970     0.926     21874\n",
      "         1.0      0.529     0.208     0.299      3494\n",
      "\n",
      "    accuracy                          0.865     25368\n",
      "   macro avg      0.707     0.589     0.612     25368\n",
      "weighted avg      0.836     0.865     0.839     25368\n",
      "\n"
     ]
    },
    {
     "data": {
      "image/png": "[encoded data removed]",
      "text/plain": [
       "<Figure size 432x288 with 1 Axes>"
      ]
     },
     "metadata": {
      "needs_background": "light"
     },
     "output_type": "display_data"
    },
    {
     "name": "stdout",
     "output_type": "stream",
     "text": [
      "training model ...\n",
      "Train set min loss: 0.3425426781177521\n",
      "Val set min loss: 0.3372867703437805\n",
      "[[21660   214]\n",
      " [ 3274   220]]\n",
      "              precision    recall  f1-score   support\n",
      "\n",
      "         0.0      0.869     0.990     0.925     21874\n",
      "         1.0      0.507     0.063     0.112      3494\n",
      "\n",
      "    accuracy                          0.863     25368\n",
      "   macro avg      0.688     0.527     0.519     25368\n",
      "weighted avg      0.819     0.863     0.813     25368\n",
      "\n"
     ]
    },
    {
     "data": {
      "image/png": "[encoded data removed]",
      "text/plain": [
       "<Figure size 432x288 with 1 Axes>"
      ]
     },
     "metadata": {
      "needs_background": "light"
     },
     "output_type": "display_data"
    },
    {
     "name": "stdout",
     "output_type": "stream",
     "text": [
      "training model ...\n",
      "Train set min loss: 0.37855643033981323\n",
      "Val set min loss: 0.373287171125412\n",
      "[[21858    16]\n",
      " [ 3476    18]]\n",
      "              precision    recall  f1-score   support\n",
      "\n",
      "         0.0      0.863     0.999     0.926     21874\n",
      "         1.0      0.529     0.005     0.010      3494\n",
      "\n",
      "    accuracy                          0.862     25368\n",
      "   macro avg      0.696     0.502     0.468     25368\n",
      "weighted avg      0.817     0.862     0.800     25368\n",
      "\n"
     ]
    },
    {
     "data": {
      "image/png": "[encoded data removed]",
      "text/plain": [
       "<Figure size 432x288 with 1 Axes>"
      ]
     },
     "metadata": {
      "needs_background": "light"
     },
     "output_type": "display_data"
    }
   ],
   "source": [
    "tf.config.run_functions_eagerly(False)\n",
    "\n",
    "Models_ros={}\n",
    "Models_ros['learning_rate'] = {}\n",
    "\n",
    "learning_rates = [0.1,0.01,0.001,0.0001,0.00001,0.000001,0.0000001]\n",
    "\n",
    "for lr in learning_rates:\n",
    "    NN = Sequential()\n",
    "    NN.add(Dense(21,input_dim = X_train.shape[1], activation='relu'))\n",
    "    NN.add(Dense(100,activation='relu'))\n",
    "    NN.add(Dense(50, activation='relu'))\n",
    "    opt = RMSprop(learning_rate= lr, momentum=0.9)    \n",
    "    NN.add(Dense(1, activation='sigmoid'))\n",
    "    NN.compile(loss =tf.keras.losses.BinaryCrossentropy(), optimizer=opt, metrics='accuracy')\n",
    "\n",
    "    Models_ros['learning_rate'][lr]= NN\n",
    "    tf.keras.backend.clear_session()\n",
    "    del NN\n",
    "\n",
    "counter = 0\n",
    "for i, model_NN in Models_ros['learning_rate'].items():\n",
    "    print('training model ...')\n",
    "    history = model_NN.fit(x = X_train, y = y_train, epochs=10, verbose = 0, validation_data=(X_test, y_test))\n",
    "    print('Train set min loss: {}'.format(min(history.history['loss'])))\n",
    "    print('Val set min loss: {}'.format(min(history.history['val_loss'])))\n",
    "    y_pred_NN = 1*(model_NN.predict(X_test)>0.5)\n",
    "    # Print the confusion matrix\n",
    "    print(metrics.confusion_matrix(y_test, y_pred_NN))\n",
    "    # Print the precision and recall, among other metrics\n",
    "    print(metrics.classification_report(y_test, y_pred_NN, digits=3))\n",
    "    plt.figure()\n",
    "    plt.title('learning rate: {}'.format(learning_rates[counter]))\n",
    "    plt.plot(history.history['loss'], label = 'Train_loss')\n",
    "    plt.plot(history.history['val_loss'], label = 'Val_loss')\n",
    "    plt.plot(history.history['accuracy'], label = 'Train_acc')\n",
    "    plt.plot(history.history['val_accuracy'], label = 'Val_acc')\n",
    "    plt.xlabel(\"epochs\")\n",
    "    plt.legend()\n",
    "    plt.show()\n",
    "    counter += 1"
   ]
  },
  {
   "cell_type": "code",
   "execution_count": 51,
   "id": "0edf4df0-9abe-4016-ad5b-96ce939ee7be",
   "metadata": {},
   "outputs": [
    {
     "name": "stdout",
     "output_type": "stream",
     "text": [
      "lr:  0.1 ;   ROC_AUC:  0.5\n",
      "lr:  0.01 ;   ROC_AUC:  0.5\n",
      "lr:  0.001 ;   ROC_AUC:  0.8250915936875081\n",
      "lr:  0.0001 ;   ROC_AUC:  0.8251921330779357\n",
      "lr:  1e-05 ;   ROC_AUC:  0.8230470157988153\n",
      "lr:  1e-06 ;   ROC_AUC:  0.7827813890021841\n",
      "lr:  1e-07 ;   ROC_AUC:  0.6971576007020276\n"
     ]
    }
   ],
   "source": [
    "#print ROC_AUC\n",
    "for i, model_NN in Models_ros['learning_rate'].items():\n",
    "    print('lr: ',i, ';   ROC_AUC: ', roc_auc_score(y_test, model_NN.predict(X_test)))"
   ]
  },
  {
   "cell_type": "markdown",
   "id": "c9bef08f-0255-41eb-9b68-768594b371e6",
   "metadata": {},
   "source": [
    "## Sensitivity and Specificity"
   ]
  },
  {
   "cell_type": "code",
   "execution_count": 58,
   "id": "4be3b633-d4a8-4ca3-8066-d15a1420f116",
   "metadata": {},
   "outputs": [],
   "source": [
    "def metrics_dict(confusion_matrix):\n",
    "    # follow confusion matrix format of sklearn\n",
    "    metrics={}\n",
    "    metrics['TN'] = confusion_matrix[0,0]\n",
    "    metrics['FP'] = confusion_matrix[0,1]\n",
    "    metrics['FN'] = confusion_matrix[1,0]\n",
    "    metrics['TP'] = confusion_matrix[1,1]\n",
    "    metrics['sensitivity']= metrics['TP']/(metrics['TP']+metrics['FN'])\n",
    "    metrics['specificity']= metrics['TN']/(metrics['TN']+metrics['FP'])\n",
    "    metrics['precision'] = metrics['TP']/(metrics['TP']+metrics['FP'])\n",
    "    metrics['recall'] = metrics['sensitivity']\n",
    "    return metrics "
   ]
  },
  {
   "cell_type": "code",
   "execution_count": 59,
   "id": "48a9564f-5c86-473d-8ab7-0a541105bb3e",
   "metadata": {},
   "outputs": [
    {
     "name": "stderr",
     "output_type": "stream",
     "text": [
      "/var/folders/wz/clvs5gsd7jl5jxf044nvdvw00000gn/T/ipykernel_18714/3858091586.py:10: RuntimeWarning: invalid value encountered in long_scalars\n",
      "  metrics['precision'] = metrics['TP']/(metrics['TP']+metrics['FP'])\n",
      "/var/folders/wz/clvs5gsd7jl5jxf044nvdvw00000gn/T/ipykernel_18714/3858091586.py:10: RuntimeWarning: invalid value encountered in long_scalars\n",
      "  metrics['precision'] = metrics['TP']/(metrics['TP']+metrics['FP'])\n",
      "/var/folders/wz/clvs5gsd7jl5jxf044nvdvw00000gn/T/ipykernel_18714/3858091586.py:10: RuntimeWarning: invalid value encountered in long_scalars\n",
      "  metrics['precision'] = metrics['TP']/(metrics['TP']+metrics['FP'])\n",
      "/var/folders/wz/clvs5gsd7jl5jxf044nvdvw00000gn/T/ipykernel_18714/3858091586.py:10: RuntimeWarning: invalid value encountered in long_scalars\n",
      "  metrics['precision'] = metrics['TP']/(metrics['TP']+metrics['FP'])\n",
      "/var/folders/wz/clvs5gsd7jl5jxf044nvdvw00000gn/T/ipykernel_18714/3858091586.py:10: RuntimeWarning: invalid value encountered in long_scalars\n",
      "  metrics['precision'] = metrics['TP']/(metrics['TP']+metrics['FP'])\n",
      "/var/folders/wz/clvs5gsd7jl5jxf044nvdvw00000gn/T/ipykernel_18714/3858091586.py:10: RuntimeWarning: invalid value encountered in long_scalars\n",
      "  metrics['precision'] = metrics['TP']/(metrics['TP']+metrics['FP'])\n",
      "/var/folders/wz/clvs5gsd7jl5jxf044nvdvw00000gn/T/ipykernel_18714/3858091586.py:10: RuntimeWarning: invalid value encountered in long_scalars\n",
      "  metrics['precision'] = metrics['TP']/(metrics['TP']+metrics['FP'])\n"
     ]
    }
   ],
   "source": [
    "rf_m = metrics_dict(metrics.confusion_matrix(y_test, predictions))\n",
    "rf_m_resampled = metrics_dict(metrics.confusion_matrix(y_test, predictions_resampled))\n",
    "rf_m_ros = metrics_dict(metrics.confusion_matrix(y_test, predictions_ros))\n",
    "gb_m = metrics_dict(metrics.confusion_matrix(y_test, y_pred))\n",
    "gb_m_resampled = metrics_dict(metrics.confusion_matrix(y_test, y_pred_resampled))\n",
    "gb_m_ros = metrics_dict(metrics.confusion_matrix(y_test, y_pred_ros))\n",
    "\n",
    "NN_m = {}\n",
    "for i, model_NN in Models['learning_rate'].items():\n",
    "    y_pred_NN = 1*(model_NN.predict(X_test)>0.5)\n",
    "    NN_m[i] = metrics_dict(metrics.confusion_matrix(y_test, y_pred_NN))\n",
    "\n",
    "NN_m_resampled = {}\n",
    "for i, model_NN in Models_resampled['learning_rate'].items():\n",
    "    y_pred_NN = 1*(model_NN.predict(X_test)>0.5)\n",
    "    NN_m_resampled[i] = metrics_dict(metrics.confusion_matrix(y_test, y_pred_NN))\n",
    "\n",
    "NN_m_ros = {}\n",
    "for i, model_NN in Models_ros['learning_rate'].items():\n",
    "    y_pred_NN = 1*(model_NN.predict(X_test)>0.5)\n",
    "    NN_m_ros[i] = metrics_dict(metrics.confusion_matrix(y_test, y_pred_NN))"
   ]
  },
  {
   "cell_type": "code",
   "execution_count": 60,
   "id": "94eb07bc-6871-462d-9505-992c2cfe4c19",
   "metadata": {},
   "outputs": [
    {
     "data": {
      "text/plain": [
       "{'TN': 21199,\n",
       " 'FP': 675,\n",
       " 'FN': 2846,\n",
       " 'TP': 648,\n",
       " 'sensitivity': 0.18546078992558673,\n",
       " 'specificity': 0.9691414464661242,\n",
       " 'precision': 0.4897959183673469,\n",
       " 'recall': 0.18546078992558673}"
      ]
     },
     "execution_count": 60,
     "metadata": {},
     "output_type": "execute_result"
    }
   ],
   "source": [
    "rf_m"
   ]
  },
  {
   "cell_type": "code",
   "execution_count": 61,
   "id": "3355604a-4164-4f4b-ab09-b4aa1331510d",
   "metadata": {},
   "outputs": [],
   "source": [
    "def print_sens_spec(metrics):\n",
    "    print('ss_mean: {:.3f};'.format((metrics['sensitivity']+metrics['specificity'])/2),'sensitivity: {:.3f};'.format(metrics['sensitivity']),' specificity: {:.3f}'.format(metrics['specificity']))"
   ]
  },
  {
   "cell_type": "code",
   "execution_count": 62,
   "id": "01f670bb-2992-4a82-af95-c72e072fa9f6",
   "metadata": {},
   "outputs": [
    {
     "name": "stdout",
     "output_type": "stream",
     "text": [
      "ss_mean: 0.577; sensitivity: 0.185;  specificity: 0.969\n"
     ]
    }
   ],
   "source": [
    "print_sens_spec(rf_m)"
   ]
  },
  {
   "cell_type": "code",
   "execution_count": 63,
   "id": "1a165429-ae75-4902-b46b-e418f7436c3f",
   "metadata": {},
   "outputs": [
    {
     "name": "stdout",
     "output_type": "stream",
     "text": [
      "ss_mean: 0.731; sensitivity: 0.670;  specificity: 0.792\n"
     ]
    }
   ],
   "source": [
    "print_sens_spec(rf_m_resampled)"
   ]
  },
  {
   "cell_type": "code",
   "execution_count": 64,
   "id": "52bb8072-2ce5-4e14-b632-7ad37cb3ddb9",
   "metadata": {},
   "outputs": [
    {
     "name": "stdout",
     "output_type": "stream",
     "text": [
      "ss_mean: 0.631; sensitivity: 0.343;  specificity: 0.919\n"
     ]
    }
   ],
   "source": [
    "print_sens_spec(rf_m_ros)"
   ]
  },
  {
   "cell_type": "code",
   "execution_count": 65,
   "id": "9be85136-b8ef-4ed8-a778-1a3da6f00416",
   "metadata": {},
   "outputs": [
    {
     "name": "stdout",
     "output_type": "stream",
     "text": [
      "ss_mean: 0.577; sensitivity: 0.177;  specificity: 0.977\n"
     ]
    }
   ],
   "source": [
    "print_sens_spec(gb_m)"
   ]
  },
  {
   "cell_type": "code",
   "execution_count": 66,
   "id": "4fb7d241-f40b-47e4-9e80-a574055f52b5",
   "metadata": {},
   "outputs": [
    {
     "name": "stdout",
     "output_type": "stream",
     "text": [
      "ss_mean: 0.752; sensitivity: 0.762;  specificity: 0.742\n"
     ]
    }
   ],
   "source": [
    "print_sens_spec(gb_m_resampled)"
   ]
  },
  {
   "cell_type": "code",
   "execution_count": 67,
   "id": "055c037a-6a6d-4a05-8f9f-8e69c1d4d150",
   "metadata": {},
   "outputs": [
    {
     "name": "stdout",
     "output_type": "stream",
     "text": [
      "ss_mean: 0.757; sensitivity: 0.805;  specificity: 0.709\n"
     ]
    }
   ],
   "source": [
    "print_sens_spec(gb_m_ros)"
   ]
  },
  {
   "cell_type": "code",
   "execution_count": 68,
   "id": "fd2c0cc1-17af-4ec8-b91d-775fd7baf93c",
   "metadata": {},
   "outputs": [
    {
     "name": "stdout",
     "output_type": "stream",
     "text": [
      "lr:  0.1\n",
      "ss_mean: 0.500; sensitivity: 0.000;  specificity: 1.000\n",
      "lr:  0.01\n",
      "ss_mean: 0.500; sensitivity: 0.000;  specificity: 1.000\n",
      "lr:  0.001\n",
      "ss_mean: 0.536; sensitivity: 0.080;  specificity: 0.992\n",
      "lr:  0.0001\n",
      "ss_mean: 0.532; sensitivity: 0.073;  specificity: 0.992\n",
      "lr:  1e-05\n",
      "ss_mean: 0.548; sensitivity: 0.110;  specificity: 0.987\n",
      "lr:  1e-06\n",
      "ss_mean: 0.559; sensitivity: 0.138;  specificity: 0.980\n",
      "lr:  1e-07\n",
      "ss_mean: 0.514; sensitivity: 0.035;  specificity: 0.994\n"
     ]
    }
   ],
   "source": [
    "for i, m_dict in NN_m.items():\n",
    "    print('lr: ',i)\n",
    "    print_sens_spec(m_dict)"
   ]
  },
  {
   "cell_type": "code",
   "execution_count": 69,
   "id": "a6dac192-d5d2-4f84-8947-95777df1e36b",
   "metadata": {},
   "outputs": [
    {
     "name": "stdout",
     "output_type": "stream",
     "text": [
      "lr:  0.1\n",
      "ss_mean: 0.500; sensitivity: 0.000;  specificity: 1.000\n",
      "lr:  0.01\n",
      "ss_mean: 0.500; sensitivity: 0.000;  specificity: 1.000\n",
      "lr:  0.001\n",
      "ss_mean: 0.500; sensitivity: 0.000;  specificity: 1.000\n",
      "lr:  0.0001\n",
      "ss_mean: 0.504; sensitivity: 0.009;  specificity: 0.999\n",
      "lr:  1e-05\n",
      "ss_mean: 0.560; sensitivity: 0.136;  specificity: 0.983\n",
      "lr:  1e-06\n",
      "ss_mean: 0.536; sensitivity: 0.085;  specificity: 0.987\n",
      "lr:  1e-07\n",
      "ss_mean: 0.505; sensitivity: 0.012;  specificity: 0.998\n"
     ]
    }
   ],
   "source": [
    "for i, m_dict in NN_m_resampled.items():\n",
    "    print('lr: ',i)\n",
    "    print_sens_spec(m_dict)"
   ]
  },
  {
   "cell_type": "code",
   "execution_count": 70,
   "id": "b4c279f5-5a42-4523-ad9c-fb5740efeeee",
   "metadata": {},
   "outputs": [
    {
     "name": "stdout",
     "output_type": "stream",
     "text": [
      "lr:  0.1\n",
      "ss_mean: 0.500; sensitivity: 0.000;  specificity: 1.000\n",
      "lr:  0.01\n",
      "ss_mean: 0.500; sensitivity: 0.000;  specificity: 1.000\n",
      "lr:  0.001\n",
      "ss_mean: 0.643; sensitivity: 0.350;  specificity: 0.935\n",
      "lr:  0.0001\n",
      "ss_mean: 0.548; sensitivity: 0.108;  specificity: 0.987\n",
      "lr:  1e-05\n",
      "ss_mean: 0.589; sensitivity: 0.208;  specificity: 0.970\n",
      "lr:  1e-06\n",
      "ss_mean: 0.527; sensitivity: 0.063;  specificity: 0.990\n",
      "lr:  1e-07\n",
      "ss_mean: 0.502; sensitivity: 0.005;  specificity: 0.999\n"
     ]
    }
   ],
   "source": [
    "for i, m_dict in NN_m_ros.items():\n",
    "    print('lr: ',i)\n",
    "    print_sens_spec(m_dict)"
   ]
  },
  {
   "cell_type": "code",
   "execution_count": null,
   "id": "19c6c697-459d-4b0a-804d-fe61226029a8",
   "metadata": {},
   "outputs": [],
   "source": []
  },
  {
   "cell_type": "markdown",
   "id": "8ad01f90-da1c-4bb5-a0b2-2d0a175ec47e",
   "metadata": {},
   "source": [
    "#### Tuning Gradient Boosting for SMOTE-ENN"
   ]
  },
  {
   "cell_type": "code",
   "execution_count": 72,
   "id": "32dec385-adf6-4302-a90d-c858e4473d9a",
   "metadata": {},
   "outputs": [
    {
     "name": "stdout",
     "output_type": "stream",
     "text": [
      "Accuracy: 0.8675890886155787\n"
     ]
    },
    {
     "ename": "AttributeError",
     "evalue": "'dict' object has no attribute 'confusion_matrix'",
     "output_type": "error",
     "traceback": [
      "\u001b[0;31m---------------------------------------------------------------------------\u001b[0m",
      "\u001b[0;31mAttributeError\u001b[0m                            Traceback (most recent call last)",
      "\u001b[0;32m/var/folders/wz/clvs5gsd7jl5jxf044nvdvw00000gn/T/ipykernel_18714/3311085341.py\u001b[0m in \u001b[0;36m<module>\u001b[0;34m\u001b[0m\n\u001b[1;32m     25\u001b[0m \u001b[0mprint\u001b[0m\u001b[0;34m(\u001b[0m\u001b[0;34m\"Accuracy:\"\u001b[0m\u001b[0;34m,\u001b[0m \u001b[0maccuracy\u001b[0m\u001b[0;34m)\u001b[0m\u001b[0;34m\u001b[0m\u001b[0;34m\u001b[0m\u001b[0m\n\u001b[1;32m     26\u001b[0m \u001b[0;31m# print other metrics\u001b[0m\u001b[0;34m\u001b[0m\u001b[0;34m\u001b[0m\u001b[0m\n\u001b[0;32m---> 27\u001b[0;31m \u001b[0mgb_m_tune\u001b[0m \u001b[0;34m=\u001b[0m \u001b[0mmetrics_dict\u001b[0m\u001b[0;34m(\u001b[0m\u001b[0mmetrics\u001b[0m\u001b[0;34m.\u001b[0m\u001b[0mconfusion_matrix\u001b[0m\u001b[0;34m(\u001b[0m\u001b[0my_test\u001b[0m\u001b[0;34m,\u001b[0m \u001b[0my_pred_tune\u001b[0m\u001b[0;34m)\u001b[0m\u001b[0;34m)\u001b[0m\u001b[0;34m\u001b[0m\u001b[0;34m\u001b[0m\u001b[0m\n\u001b[0m\u001b[1;32m     28\u001b[0m \u001b[0mprint_sens_spec\u001b[0m\u001b[0;34m(\u001b[0m\u001b[0mgb_m_tune\u001b[0m\u001b[0;34m)\u001b[0m\u001b[0;34m\u001b[0m\u001b[0;34m\u001b[0m\u001b[0m\n",
      "\u001b[0;31mAttributeError\u001b[0m: 'dict' object has no attribute 'confusion_matrix'"
     ]
    }
   ],
   "source": [
    "from sklearn.model_selection import GridSearchCV\n",
    "from sklearn.metrics import accuracy_score\n",
    "\n",
    "# Define the parameter grid for hyperparameter tuning\n",
    "param_grid = {'n_estimators': [100, 200],\n",
    "              'max_depth': [3, 4, 5],\n",
    "              'learning_rate': [0.1, 0.05, 0.01]}\n",
    "\n",
    "# Create the Gradient Boosting classifier\n",
    "gbc = GradientBoostingClassifier()\n",
    "\n",
    "# Perform grid search to find the best hyperparameters\n",
    "grid_search = GridSearchCV(gbc, param_grid, cv=5, scoring='accuracy')\n",
    "grid_search.fit(X_train_resampled, y_train_resampled)\n",
    "\n",
    "# Train the final model using the best hyperparameters\n",
    "best_gbc = grid_search.best_estimator_\n",
    "best_gbc.fit(X_train, y_train)\n",
    "\n",
    "# Make predictions on the test set\n",
    "y_pred_tune = best_gbc.predict(X_test)\n",
    "\n",
    "# Calculate the accuracy of the model\n",
    "accuracy = accuracy_score(y_test, y_pred_tune)\n",
    "print(\"Accuracy:\", accuracy)\n",
    "# print other metrics\n",
    "gb_m_tune = metrics_dict(metrics.confusion_matrix(y_test, y_pred_tune))\n",
    "print_sens_spec(gb_m_tune)"
   ]
  },
  {
   "cell_type": "code",
   "execution_count": 73,
   "id": "7d15e027-afb4-4c9a-bdb5-8239a845af58",
   "metadata": {},
   "outputs": [
    {
     "name": "stdout",
     "output_type": "stream",
     "text": [
      "ss_mean: 0.566; sensitivity: 0.151;  specificity: 0.982\n"
     ]
    }
   ],
   "source": [
    "from sklearn import metrics\n",
    "# print other metrics\n",
    "gb_m_tune = metrics_dict(metrics.confusion_matrix(y_test, y_pred_tune))\n",
    "print_sens_spec(gb_m_tune)"
   ]
  },
  {
   "cell_type": "markdown",
   "id": "f98bd293-3faf-4cbd-9a0a-a222f620fd2e",
   "metadata": {},
   "source": [
    "#### Random Forest accuracy"
   ]
  },
  {
   "cell_type": "code",
   "execution_count": 74,
   "id": "9ab6f27e-5d6a-4dfd-9ccb-76c3c7ac6a6e",
   "metadata": {},
   "outputs": [
    {
     "data": {
      "text/plain": [
       "0.8612030905077263"
      ]
     },
     "execution_count": 74,
     "metadata": {},
     "output_type": "execute_result"
    }
   ],
   "source": [
    "accuracy_score(y_test, predictions)"
   ]
  },
  {
   "cell_type": "code",
   "execution_count": 75,
   "id": "3cd83482-9be5-4aa1-a152-c65e520974aa",
   "metadata": {},
   "outputs": [
    {
     "data": {
      "text/plain": [
       "0.7749921160517187"
      ]
     },
     "execution_count": 75,
     "metadata": {},
     "output_type": "execute_result"
    }
   ],
   "source": [
    "accuracy_score(y_test, predictions_resampled)"
   ]
  },
  {
   "cell_type": "code",
   "execution_count": 76,
   "id": "52fb07a4-15e5-48d1-8a88-e797b2566514",
   "metadata": {},
   "outputs": [
    {
     "data": {
      "text/plain": [
       "0.8394828129927467"
      ]
     },
     "execution_count": 76,
     "metadata": {},
     "output_type": "execute_result"
    }
   ],
   "source": [
    "accuracy_score(y_test, predictions_ros)"
   ]
  },
  {
   "cell_type": "markdown",
   "id": "0acdef59-51ee-4592-bf14-7079d3b19279",
   "metadata": {},
   "source": [
    "#### Gradient Boosting accuracy"
   ]
  },
  {
   "cell_type": "code",
   "execution_count": 77,
   "id": "3b3ee0c8-5aa9-4a44-867c-f9b2a8293046",
   "metadata": {},
   "outputs": [
    {
     "data": {
      "text/plain": [
       "0.8669977924944813"
      ]
     },
     "execution_count": 77,
     "metadata": {},
     "output_type": "execute_result"
    }
   ],
   "source": [
    "accuracy_score(y_test, y_pred)"
   ]
  },
  {
   "cell_type": "code",
   "execution_count": 78,
   "id": "42d2894a-f92d-4e99-8a28-c1b4702dbade",
   "metadata": {},
   "outputs": [
    {
     "data": {
      "text/plain": [
       "0.7451119520655944"
      ]
     },
     "execution_count": 78,
     "metadata": {},
     "output_type": "execute_result"
    }
   ],
   "source": [
    "accuracy_score(y_test, y_pred_resampled)"
   ]
  },
  {
   "cell_type": "code",
   "execution_count": 79,
   "id": "ffa53436-7199-4c3b-9b2a-d53a13b28633",
   "metadata": {},
   "outputs": [
    {
     "data": {
      "text/plain": [
       "0.722682119205298"
      ]
     },
     "execution_count": 79,
     "metadata": {},
     "output_type": "execute_result"
    }
   ],
   "source": [
    "accuracy_score(y_test, y_pred_ros)"
   ]
  },
  {
   "cell_type": "markdown",
   "id": "f0167647-2bea-4b3c-b697-6a818622d2be",
   "metadata": {},
   "source": [
    "#### Neural Network accuracy"
   ]
  },
  {
   "cell_type": "code",
   "execution_count": 80,
   "id": "7b9a5224-7208-4215-8091-0f89a6c159ca",
   "metadata": {},
   "outputs": [
    {
     "name": "stdout",
     "output_type": "stream",
     "text": [
      "lr:  0.1 ; accuracy: 0.862\n",
      "lr:  0.01 ; accuracy: 0.862\n",
      "lr:  0.001 ; accuracy: 0.866\n",
      "lr:  0.0001 ; accuracy: 0.865\n",
      "lr:  1e-05 ; accuracy: 0.866\n",
      "lr:  1e-06 ; accuracy: 0.864\n",
      "lr:  1e-07 ; accuracy: 0.862\n"
     ]
    }
   ],
   "source": [
    "for i, m_dict in NN_m.items():\n",
    "    print('lr: ',i, '; accuracy: {:.3f}'.format((m_dict['TP']+m_dict['TN'])/(m_dict['TP']+m_dict['TN']+m_dict['FP']+m_dict['FN'])))"
   ]
  },
  {
   "cell_type": "markdown",
   "id": "e7bd3996-e6df-415a-ab0b-f03a2477ebcb",
   "metadata": {},
   "source": [
    "##### with SMOTE-ENN resampling"
   ]
  },
  {
   "cell_type": "code",
   "execution_count": 81,
   "id": "92e427e3-a4b2-460b-8448-371c7699f0bd",
   "metadata": {},
   "outputs": [
    {
     "name": "stdout",
     "output_type": "stream",
     "text": [
      "lr:  0.1 ; accuracy: 0.862\n",
      "lr:  0.01 ; accuracy: 0.862\n",
      "lr:  0.001 ; accuracy: 0.862\n",
      "lr:  0.0001 ; accuracy: 0.863\n",
      "lr:  1e-05 ; accuracy: 0.867\n",
      "lr:  1e-06 ; accuracy: 0.862\n",
      "lr:  1e-07 ; accuracy: 0.862\n"
     ]
    }
   ],
   "source": [
    "for i, m_dict in NN_m_resampled.items():\n",
    "    print('lr: ',i, '; accuracy: {:.3f}'.format((m_dict['TP']+m_dict['TN'])/(m_dict['TP']+m_dict['TN']+m_dict['FP']+m_dict['FN'])))"
   ]
  },
  {
   "cell_type": "markdown",
   "id": "a26ff7d9-3f1d-4b68-a321-dd2fee6fa8ac",
   "metadata": {},
   "source": [
    "##### with random over-sampling"
   ]
  },
  {
   "cell_type": "code",
   "execution_count": 82,
   "id": "33bd969e-cd3a-49b5-bacd-08a1210055d3",
   "metadata": {},
   "outputs": [
    {
     "name": "stdout",
     "output_type": "stream",
     "text": [
      "lr:  0.1 ; accuracy: 0.862\n",
      "lr:  0.01 ; accuracy: 0.862\n",
      "lr:  0.001 ; accuracy: 0.854\n",
      "lr:  0.0001 ; accuracy: 0.866\n",
      "lr:  1e-05 ; accuracy: 0.865\n",
      "lr:  1e-06 ; accuracy: 0.863\n",
      "lr:  1e-07 ; accuracy: 0.862\n"
     ]
    }
   ],
   "source": [
    "for i, m_dict in NN_m_ros.items():\n",
    "    print('lr: ',i, '; accuracy: {:.3f}'.format((m_dict['TP']+m_dict['TN'])/(m_dict['TP']+m_dict['TN']+m_dict['FP']+m_dict['FN'])))"
   ]
  },
  {
   "cell_type": "markdown",
   "id": "6a1b1f1b-31f5-4dc2-8047-140ba0c3c482",
   "metadata": {},
   "source": [
    "## Conclusion"
   ]
  },
  {
   "cell_type": "markdown",
   "id": "9d4350fc-c422-44b0-8fc3-23f8e7172faa",
   "metadata": {},
   "source": [
    "Based on average of sensitivity and specificity (instead of accuracy), Gradient Boosting with random sampling is the best, followed by Gradient Boosting with SMOTE-ENN. It is noted that when neural network is relatively simple and not subject to rigorous tuning, its performance can be worse than gradient boosting. \n",
    "\n",
    "PS: the loss function is not customised to the evaluation metric (average of sensitivity and specificity). Further improvement can be made by customizing loss function and more tuning."
   ]
  },
  {
   "cell_type": "code",
   "execution_count": 84,
   "id": "346f4069-ca1b-4c15-bf60-5327656b09d2",
   "metadata": {},
   "outputs": [],
   "source": [
    "# save the model to disk\n",
    "import pickle\n",
    "filename = 'final_diabetes_model.sav'\n",
    "pickle.dump(gb_model_ros, open(filename, 'wb'))"
   ]
  },
  {
   "cell_type": "code",
   "execution_count": 85,
   "id": "37b813af-3acd-4191-9e6c-fb789da4a6f7",
   "metadata": {},
   "outputs": [],
   "source": [
    "# load the model from disk\n",
    "loaded_model = pickle.load(open(filename, 'rb'))"
   ]
  }
 ],
 "metadata": {
  "kernelspec": {
   "display_name": "Python 3 (ipykernel)",
   "language": "python",
   "name": "python3"
  },
  "language_info": {
   "codemirror_mode": {
    "name": "ipython",
    "version": 3
   },
   "file_extension": ".py",
   "mimetype": "text/x-python",
   "name": "python",
   "nbconvert_exporter": "python",
   "pygments_lexer": "ipython3",
   "version": "3.9.7"
  }
 },
 "nbformat": 4,
 "nbformat_minor": 5
}
